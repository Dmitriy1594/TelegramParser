{
 "cells": [
  {
   "cell_type": "code",
   "execution_count": 1,
   "metadata": {},
   "outputs": [],
   "source": [
    "import pandas as pd"
   ]
  },
  {
   "cell_type": "code",
   "execution_count": 2,
   "metadata": {
    "scrolled": false
   },
   "outputs": [
    {
     "data": {
      "text/html": [
       "<div>\n",
       "<style scoped>\n",
       "    .dataframe tbody tr th:only-of-type {\n",
       "        vertical-align: middle;\n",
       "    }\n",
       "\n",
       "    .dataframe tbody tr th {\n",
       "        vertical-align: top;\n",
       "    }\n",
       "\n",
       "    .dataframe thead th {\n",
       "        text-align: right;\n",
       "    }\n",
       "</style>\n",
       "<table border=\"1\" class=\"dataframe\">\n",
       "  <thead>\n",
       "    <tr style=\"text-align: right;\">\n",
       "      <th></th>\n",
       "      <th>channel_id</th>\n",
       "      <th>id</th>\n",
       "      <th>date</th>\n",
       "      <th>message</th>\n",
       "      <th>url</th>\n",
       "      <th>site_name</th>\n",
       "      <th>title</th>\n",
       "      <th>description</th>\n",
       "    </tr>\n",
       "  </thead>\n",
       "  <tbody>\n",
       "    <tr>\n",
       "      <th>0</th>\n",
       "      <td>1.018448e+09</td>\n",
       "      <td>3336.0</td>\n",
       "      <td>1.583513e+09</td>\n",
       "      <td>Нет, я вспомнил. есть хорошие новости, с котор...</td>\n",
       "      <td>https://spreadprivacy.com/duckduckgo-tracker-r...</td>\n",
       "      <td>DuckDuckGo Blog</td>\n",
       "      <td>DuckDuckGo Tracker Radar Exposes Hidden Tracking</td>\n",
       "      <td>DuckDuckGo Tracker Radar is a best-in-class, a...</td>\n",
       "    </tr>\n",
       "    <tr>\n",
       "      <th>1</th>\n",
       "      <td>1.018448e+09</td>\n",
       "      <td>3335.0</td>\n",
       "      <td>1.583511e+09</td>\n",
       "      <td>В Штатах, кажется, хотят сделать очень невыгод...</td>\n",
       "      <td>https://www.judiciary.senate.gov/press/rep/rel...</td>\n",
       "      <td>www.judiciary.senate.gov</td>\n",
       "      <td>Graham, Blumenthal, Hawley, Feinstein Introduc...</td>\n",
       "      <td>United States Senate Committee on the Judiciary</td>\n",
       "    </tr>\n",
       "    <tr>\n",
       "      <th>2</th>\n",
       "      <td>1.018448e+09</td>\n",
       "      <td>3334.0</td>\n",
       "      <td>1.583472e+09</td>\n",
       "      <td>аппаратная дыра в процессорах Intel, а точнее ...</td>\n",
       "      <td>https://blog.ptsecurity.com/2020/03/intelx86-r...</td>\n",
       "      <td>Ptsecurity</td>\n",
       "      <td>Intel x86 Root of Trust: loss of trust</td>\n",
       "      <td>The scenario that Intel system architects, eng...</td>\n",
       "    </tr>\n",
       "    <tr>\n",
       "      <th>3</th>\n",
       "      <td>1.018448e+09</td>\n",
       "      <td>3333.0</td>\n",
       "      <td>1.583430e+09</td>\n",
       "      <td>Let’s Encrypt пока что не будет отзывать часть...</td>\n",
       "      <td>https://community.letsencrypt.org/t/2020-02-29...</td>\n",
       "      <td>Let's Encrypt Community Support</td>\n",
       "      <td>2020.02.29 CAA Rechecking Bug</td>\n",
       "      <td>On 2020-02-29 UTC, Let’s Encrypt found a bug i...</td>\n",
       "    </tr>\n",
       "    <tr>\n",
       "      <th>4</th>\n",
       "      <td>1.018448e+09</td>\n",
       "      <td>3332.0</td>\n",
       "      <td>1.583409e+09</td>\n",
       "      <td>Интересное видео с выступлением менеджеров Mic...</td>\n",
       "      <td>https://www.youtube.com/watch?v=B_mhJO2qHlQ</td>\n",
       "      <td>YouTube</td>\n",
       "      <td>Breaking Password Dependencies: Challenges in ...</td>\n",
       "      <td>Lee Walker, Principal Architect, Microsoft Ale...</td>\n",
       "    </tr>\n",
       "  </tbody>\n",
       "</table>\n",
       "</div>"
      ],
      "text/plain": [
       "     channel_id      id          date  \\\n",
       "0  1.018448e+09  3336.0  1.583513e+09   \n",
       "1  1.018448e+09  3335.0  1.583511e+09   \n",
       "2  1.018448e+09  3334.0  1.583472e+09   \n",
       "3  1.018448e+09  3333.0  1.583430e+09   \n",
       "4  1.018448e+09  3332.0  1.583409e+09   \n",
       "\n",
       "                                             message  \\\n",
       "0  Нет, я вспомнил. есть хорошие новости, с котор...   \n",
       "1  В Штатах, кажется, хотят сделать очень невыгод...   \n",
       "2  аппаратная дыра в процессорах Intel, а точнее ...   \n",
       "3  Let’s Encrypt пока что не будет отзывать часть...   \n",
       "4  Интересное видео с выступлением менеджеров Mic...   \n",
       "\n",
       "                                                 url  \\\n",
       "0  https://spreadprivacy.com/duckduckgo-tracker-r...   \n",
       "1  https://www.judiciary.senate.gov/press/rep/rel...   \n",
       "2  https://blog.ptsecurity.com/2020/03/intelx86-r...   \n",
       "3  https://community.letsencrypt.org/t/2020-02-29...   \n",
       "4        https://www.youtube.com/watch?v=B_mhJO2qHlQ   \n",
       "\n",
       "                         site_name  \\\n",
       "0                  DuckDuckGo Blog   \n",
       "1         www.judiciary.senate.gov   \n",
       "2                       Ptsecurity   \n",
       "3  Let's Encrypt Community Support   \n",
       "4                          YouTube   \n",
       "\n",
       "                                               title  \\\n",
       "0   DuckDuckGo Tracker Radar Exposes Hidden Tracking   \n",
       "1  Graham, Blumenthal, Hawley, Feinstein Introduc...   \n",
       "2             Intel x86 Root of Trust: loss of trust   \n",
       "3                      2020.02.29 CAA Rechecking Bug   \n",
       "4  Breaking Password Dependencies: Challenges in ...   \n",
       "\n",
       "                                         description  \n",
       "0  DuckDuckGo Tracker Radar is a best-in-class, a...  \n",
       "1    United States Senate Committee on the Judiciary  \n",
       "2  The scenario that Intel system architects, eng...  \n",
       "3  On 2020-02-29 UTC, Let’s Encrypt found a bug i...  \n",
       "4  Lee Walker, Principal Architect, Microsoft Ale...  "
      ]
     },
     "execution_count": 2,
     "metadata": {},
     "output_type": "execute_result"
    }
   ],
   "source": [
    "d = pd.read_csv('./dataset.csv')\n",
    "d.head()"
   ]
  },
  {
   "cell_type": "code",
   "execution_count": 3,
   "metadata": {},
   "outputs": [
    {
     "data": {
      "text/html": [
       "<div>\n",
       "<style scoped>\n",
       "    .dataframe tbody tr th:only-of-type {\n",
       "        vertical-align: middle;\n",
       "    }\n",
       "\n",
       "    .dataframe tbody tr th {\n",
       "        vertical-align: top;\n",
       "    }\n",
       "\n",
       "    .dataframe thead th {\n",
       "        text-align: right;\n",
       "    }\n",
       "</style>\n",
       "<table border=\"1\" class=\"dataframe\">\n",
       "  <thead>\n",
       "    <tr style=\"text-align: right;\">\n",
       "      <th></th>\n",
       "      <th>channel_id</th>\n",
       "      <th>id</th>\n",
       "      <th>date</th>\n",
       "      <th>message</th>\n",
       "      <th>url</th>\n",
       "      <th>site_name</th>\n",
       "      <th>title</th>\n",
       "      <th>description</th>\n",
       "    </tr>\n",
       "  </thead>\n",
       "  <tbody>\n",
       "    <tr>\n",
       "      <th>0</th>\n",
       "      <td>1.018448e+09</td>\n",
       "      <td>3336.0</td>\n",
       "      <td>1.583513e+09</td>\n",
       "      <td>Нет, я вспомнил. есть хорошие новости, с котор...</td>\n",
       "      <td>https://spreadprivacy.com/duckduckgo-tracker-r...</td>\n",
       "      <td>DuckDuckGo Blog</td>\n",
       "      <td>DuckDuckGo Tracker Radar Exposes Hidden Tracking</td>\n",
       "      <td>DuckDuckGo Tracker Radar is a best-in-class, a...</td>\n",
       "    </tr>\n",
       "    <tr>\n",
       "      <th>1</th>\n",
       "      <td>1.018448e+09</td>\n",
       "      <td>3335.0</td>\n",
       "      <td>1.583511e+09</td>\n",
       "      <td>В Штатах, кажется, хотят сделать очень невыгод...</td>\n",
       "      <td>https://www.judiciary.senate.gov/press/rep/rel...</td>\n",
       "      <td>www.judiciary.senate.gov</td>\n",
       "      <td>Graham, Blumenthal, Hawley, Feinstein Introduc...</td>\n",
       "      <td>United States Senate Committee on the Judiciary</td>\n",
       "    </tr>\n",
       "    <tr>\n",
       "      <th>2</th>\n",
       "      <td>1.018448e+09</td>\n",
       "      <td>3334.0</td>\n",
       "      <td>1.583472e+09</td>\n",
       "      <td>аппаратная дыра в процессорах Intel, а точнее ...</td>\n",
       "      <td>https://blog.ptsecurity.com/2020/03/intelx86-r...</td>\n",
       "      <td>Ptsecurity</td>\n",
       "      <td>Intel x86 Root of Trust: loss of trust</td>\n",
       "      <td>The scenario that Intel system architects, eng...</td>\n",
       "    </tr>\n",
       "    <tr>\n",
       "      <th>3</th>\n",
       "      <td>1.018448e+09</td>\n",
       "      <td>3333.0</td>\n",
       "      <td>1.583430e+09</td>\n",
       "      <td>Let’s Encrypt пока что не будет отзывать часть...</td>\n",
       "      <td>https://community.letsencrypt.org/t/2020-02-29...</td>\n",
       "      <td>Let's Encrypt Community Support</td>\n",
       "      <td>2020.02.29 CAA Rechecking Bug</td>\n",
       "      <td>On 2020-02-29 UTC, Let’s Encrypt found a bug i...</td>\n",
       "    </tr>\n",
       "    <tr>\n",
       "      <th>4</th>\n",
       "      <td>1.018448e+09</td>\n",
       "      <td>3332.0</td>\n",
       "      <td>1.583409e+09</td>\n",
       "      <td>Интересное видео с выступлением менеджеров Mic...</td>\n",
       "      <td>https://www.youtube.com/watch?v=B_mhJO2qHlQ</td>\n",
       "      <td>YouTube</td>\n",
       "      <td>Breaking Password Dependencies: Challenges in ...</td>\n",
       "      <td>Lee Walker, Principal Architect, Microsoft Ale...</td>\n",
       "    </tr>\n",
       "    <tr>\n",
       "      <th>5</th>\n",
       "      <td>1.018448e+09</td>\n",
       "      <td>3331.0</td>\n",
       "      <td>1.583349e+09</td>\n",
       "      <td>секретная информация опасносте. Министерство ю...</td>\n",
       "      <td>https://www.justice.gov/opa/pr/defense-departm...</td>\n",
       "      <td>www.justice.gov</td>\n",
       "      <td>Defense Department Linguist Charged with Espio...</td>\n",
       "      <td>Mariam Taha Thompson, 61, formerly of Rocheste...</td>\n",
       "    </tr>\n",
       "    <tr>\n",
       "      <th>6</th>\n",
       "      <td>1.018448e+09</td>\n",
       "      <td>3330.0</td>\n",
       "      <td>1.583337e+09</td>\n",
       "      <td>Давайте поучаствуем в хорошем деле. Компания P...</td>\n",
       "      <td>https://www.pwc.ru/fear-of-the-cloud-2020</td>\n",
       "      <td>PwC</td>\n",
       "      <td>Исследование PwC «Cтрах облаков»</td>\n",
       "      <td>Приглашаем Вас принять участие в исследовании ...</td>\n",
       "    </tr>\n",
       "    <tr>\n",
       "      <th>7</th>\n",
       "      <td>1.018448e+09</td>\n",
       "      <td>3329.0</td>\n",
       "      <td>1.583298e+09</td>\n",
       "      <td>Там у Lets Encrypt была бага в проверке подпис...</td>\n",
       "      <td>https://community.letsencrypt.org/t/2020-02-29...</td>\n",
       "      <td>Let's Encrypt Community Support</td>\n",
       "      <td>2020.02.29 CAA Rechecking Bug</td>\n",
       "      <td>On 2020-02-29 UTC, Let’s Encrypt found a bug i...</td>\n",
       "    </tr>\n",
       "    <tr>\n",
       "      <th>8</th>\n",
       "      <td>1.018448e+09</td>\n",
       "      <td>3328.0</td>\n",
       "      <td>1.583242e+09</td>\n",
       "      <td>Интересный материал в NYT о том, как в Китае п...</td>\n",
       "      <td>https://www.nytimes.com/2020/03/01/business/ch...</td>\n",
       "      <td>Nytimes</td>\n",
       "      <td>In Coronavirus Fight, China Gives Citizens a C...</td>\n",
       "      <td>A new system uses software to dictate quaranti...</td>\n",
       "    </tr>\n",
       "    <tr>\n",
       "      <th>9</th>\n",
       "      <td>1.018448e+09</td>\n",
       "      <td>3327.0</td>\n",
       "      <td>1.583127e+09</td>\n",
       "      <td>как израильская маркетинговая компания допусти...</td>\n",
       "      <td>https://www.databreachtoday.com/israeli-market...</td>\n",
       "      <td>Databreachtoday</td>\n",
       "      <td>Israeli Marketing Company Exposes Contacts Dat...</td>\n",
       "      <td>An Israeli marketing company left the authenti...</td>\n",
       "    </tr>\n",
       "  </tbody>\n",
       "</table>\n",
       "</div>"
      ],
      "text/plain": [
       "     channel_id      id          date  \\\n",
       "0  1.018448e+09  3336.0  1.583513e+09   \n",
       "1  1.018448e+09  3335.0  1.583511e+09   \n",
       "2  1.018448e+09  3334.0  1.583472e+09   \n",
       "3  1.018448e+09  3333.0  1.583430e+09   \n",
       "4  1.018448e+09  3332.0  1.583409e+09   \n",
       "5  1.018448e+09  3331.0  1.583349e+09   \n",
       "6  1.018448e+09  3330.0  1.583337e+09   \n",
       "7  1.018448e+09  3329.0  1.583298e+09   \n",
       "8  1.018448e+09  3328.0  1.583242e+09   \n",
       "9  1.018448e+09  3327.0  1.583127e+09   \n",
       "\n",
       "                                             message  \\\n",
       "0  Нет, я вспомнил. есть хорошие новости, с котор...   \n",
       "1  В Штатах, кажется, хотят сделать очень невыгод...   \n",
       "2  аппаратная дыра в процессорах Intel, а точнее ...   \n",
       "3  Let’s Encrypt пока что не будет отзывать часть...   \n",
       "4  Интересное видео с выступлением менеджеров Mic...   \n",
       "5  секретная информация опасносте. Министерство ю...   \n",
       "6  Давайте поучаствуем в хорошем деле. Компания P...   \n",
       "7  Там у Lets Encrypt была бага в проверке подпис...   \n",
       "8  Интересный материал в NYT о том, как в Китае п...   \n",
       "9  как израильская маркетинговая компания допусти...   \n",
       "\n",
       "                                                 url  \\\n",
       "0  https://spreadprivacy.com/duckduckgo-tracker-r...   \n",
       "1  https://www.judiciary.senate.gov/press/rep/rel...   \n",
       "2  https://blog.ptsecurity.com/2020/03/intelx86-r...   \n",
       "3  https://community.letsencrypt.org/t/2020-02-29...   \n",
       "4        https://www.youtube.com/watch?v=B_mhJO2qHlQ   \n",
       "5  https://www.justice.gov/opa/pr/defense-departm...   \n",
       "6          https://www.pwc.ru/fear-of-the-cloud-2020   \n",
       "7  https://community.letsencrypt.org/t/2020-02-29...   \n",
       "8  https://www.nytimes.com/2020/03/01/business/ch...   \n",
       "9  https://www.databreachtoday.com/israeli-market...   \n",
       "\n",
       "                         site_name  \\\n",
       "0                  DuckDuckGo Blog   \n",
       "1         www.judiciary.senate.gov   \n",
       "2                       Ptsecurity   \n",
       "3  Let's Encrypt Community Support   \n",
       "4                          YouTube   \n",
       "5                  www.justice.gov   \n",
       "6                              PwC   \n",
       "7  Let's Encrypt Community Support   \n",
       "8                          Nytimes   \n",
       "9                  Databreachtoday   \n",
       "\n",
       "                                               title  \\\n",
       "0   DuckDuckGo Tracker Radar Exposes Hidden Tracking   \n",
       "1  Graham, Blumenthal, Hawley, Feinstein Introduc...   \n",
       "2             Intel x86 Root of Trust: loss of trust   \n",
       "3                      2020.02.29 CAA Rechecking Bug   \n",
       "4  Breaking Password Dependencies: Challenges in ...   \n",
       "5  Defense Department Linguist Charged with Espio...   \n",
       "6                   Исследование PwC «Cтрах облаков»   \n",
       "7                      2020.02.29 CAA Rechecking Bug   \n",
       "8  In Coronavirus Fight, China Gives Citizens a C...   \n",
       "9  Israeli Marketing Company Exposes Contacts Dat...   \n",
       "\n",
       "                                         description  \n",
       "0  DuckDuckGo Tracker Radar is a best-in-class, a...  \n",
       "1    United States Senate Committee on the Judiciary  \n",
       "2  The scenario that Intel system architects, eng...  \n",
       "3  On 2020-02-29 UTC, Let’s Encrypt found a bug i...  \n",
       "4  Lee Walker, Principal Architect, Microsoft Ale...  \n",
       "5  Mariam Taha Thompson, 61, formerly of Rocheste...  \n",
       "6  Приглашаем Вас принять участие в исследовании ...  \n",
       "7  On 2020-02-29 UTC, Let’s Encrypt found a bug i...  \n",
       "8  A new system uses software to dictate quaranti...  \n",
       "9  An Israeli marketing company left the authenti...  "
      ]
     },
     "execution_count": 3,
     "metadata": {},
     "output_type": "execute_result"
    }
   ],
   "source": [
    "# 1018448328 1222728626 1109035330 1303657131\n",
    "ch1 = len(d[d['channel_id'] == 1018448328])\n",
    "pdlist = [d[d['channel_id'] == 1018448328], d[d['channel_id'] == 1222728626][:ch1], d[d['channel_id'] == 1109035330][:ch1], d[d['channel_id'] == 1303657131][:ch1]]\n",
    "df = pd.concat(pdlist)\n",
    "df.head(10)"
   ]
  },
  {
   "cell_type": "code",
   "execution_count": 4,
   "metadata": {},
   "outputs": [
    {
     "data": {
      "text/plain": [
       "12384"
      ]
     },
     "execution_count": 4,
     "metadata": {},
     "output_type": "execute_result"
    }
   ],
   "source": [
    "len(df)"
   ]
  },
  {
   "cell_type": "code",
   "execution_count": 5,
   "metadata": {},
   "outputs": [
    {
     "data": {
      "text/plain": [
       "count    11781.000000\n",
       "mean       195.843052\n",
       "std        381.541822\n",
       "min          1.000000\n",
       "25%         15.000000\n",
       "50%         42.000000\n",
       "75%        190.000000\n",
       "max       4096.000000\n",
       "Name: message, dtype: float64"
      ]
     },
     "execution_count": 5,
     "metadata": {},
     "output_type": "execute_result"
    }
   ],
   "source": [
    "df.message.dropna(inplace=True)\n",
    "len_data = df.message.apply(len)\n",
    "len_data.describe()"
   ]
  },
  {
   "cell_type": "markdown",
   "metadata": {},
   "source": [
    "## Количество текстов из разных пабликов"
   ]
  },
  {
   "cell_type": "code",
   "execution_count": 6,
   "metadata": {},
   "outputs": [
    {
     "data": {
      "image/png": "[encoded data removed]",
      "text/plain": [
       "<Figure size 432x288 with 1 Axes>"
      ]
     },
     "metadata": {
      "needs_background": "light"
     },
     "output_type": "display_data"
    }
   ],
   "source": [
    "import matplotlib.pyplot as plt\n",
    "import numpy as np \n",
    "%matplotlib inline\n",
    "\n",
    "counts = df.channel_id.value_counts()\n",
    "values = counts.tolist()\n",
    "labels = counts.index.tolist()\n",
    "\n",
    "\n",
    "y_pos = np.arange(len(labels))\n",
    "\n",
    " \n",
    "plt.bar(y_pos, values, align='center', alpha=0.5)\n",
    "plt.xticks(y_pos, range(len(labels)))\n",
    "\n",
    " \n",
    "plt.show()"
   ]
  },
  {
   "cell_type": "markdown",
   "metadata": {
    "slideshow": {
     "slide_type": "subslide"
    }
   },
   "source": [
    "### Длины текстов (в символах)"
   ]
  },
  {
   "cell_type": "code",
   "execution_count": 7,
   "metadata": {
    "slideshow": {
     "slide_type": "fragment"
    }
   },
   "outputs": [
    {
     "name": "stderr",
     "output_type": "stream",
     "text": [
      "/Users/romakindmitriy/anaconda3/lib/python3.7/site-packages/matplotlib/figure.py:445: UserWarning: Matplotlib is currently using module://ipykernel.pylab.backend_inline, which is a non-GUI backend, so cannot show the figure.\n",
      "  % get_backend())\n"
     ]
    },
    {
     "data": {
      "image/png": "[encoded data removed]",
      "text/plain": [
       "<Figure size 432x288 with 1 Axes>"
      ]
     },
     "metadata": {
      "needs_background": "light"
     },
     "output_type": "display_data"
    }
   ],
   "source": [
    "fig, ax = plt.subplots()\n",
    "\n",
    "length = len_data[len_data < 10000].tolist()\n",
    "\n",
    "n, bins, patches = ax.hist(length)\n",
    "\n",
    "fig.show()"
   ]
  },
  {
   "cell_type": "markdown",
   "metadata": {
    "slideshow": {
     "slide_type": "subslide"
    }
   },
   "source": [
    "## Токенизация\n",
    "\n",
    "Используем регулярные выражения, чтобы разбить тексты на слова"
   ]
  },
  {
   "cell_type": "code",
   "execution_count": 8,
   "metadata": {
    "slideshow": {
     "slide_type": "fragment"
    }
   },
   "outputs": [
    {
     "data": {
      "text/plain": [
       "'нет я вспомнил есть хорошие новости с которыми вас можно оставить на длинные выходные популярный поисковик с фокусом на конфиденциальности пользовательских данных опубликовал в виде открытого исходного кода проект который содержит список из более чем тыс доменов принадлежащих почти тысячам компаний которые следят за пользователями в онлайне сами используют этот список в своих блокировщиках трекинга и предлагают другим компаниям использовать этот список в своих продуктах хорошее дело в общем'"
      ]
     },
     "execution_count": 8,
     "metadata": {},
     "output_type": "execute_result"
    }
   ],
   "source": [
    "import re\n",
    "regex = re.compile(\"[А-Яа-я]+\")\n",
    "\n",
    "def words_only(text, regex=regex):\n",
    "    try:\n",
    "        return \" \".join(regex.findall(text))\n",
    "    except:\n",
    "        return \"\"\n",
    "\n",
    "\n",
    "df.message = df.message.str.lower()\n",
    "df.message = df.message.apply(words_only)\n",
    "\n",
    "df.message.iloc[0]"
   ]
  },
  {
   "cell_type": "markdown",
   "metadata": {
    "slideshow": {
     "slide_type": "subslide"
    }
   },
   "source": [
    "### Самые частые слова"
   ]
  },
  {
   "cell_type": "code",
   "execution_count": 9,
   "metadata": {
    "slideshow": {
     "slide_type": "fragment"
    }
   },
   "outputs": [
    {
     "name": "stdout",
     "output_type": "stream",
     "text": [
      "('в', 8334)\n",
      "('и', 7672)\n",
      "('что', 4285)\n",
      "('на', 4105)\n",
      "('не', 3875)\n",
      "('с', 3121)\n",
      "('по', 2243)\n",
      "('для', 2139)\n",
      "('как', 2013)\n",
      "('то', 2001)\n"
     ]
    }
   ],
   "source": [
    "from nltk import FreqDist\n",
    "n_types = []\n",
    "n_tokens = []\n",
    "tokens = []\n",
    "fd = FreqDist()\n",
    "\n",
    "for index, row in df.iterrows():\n",
    "    tokens = row['message'].split()\n",
    "    fd.update(tokens)\n",
    "    n_types.append(len(fd))\n",
    "    n_tokens.append(sum(fd.values()))\n",
    "    \n",
    "for i in fd.most_common(10):\n",
    "    print(i)"
   ]
  },
  {
   "cell_type": "code",
   "execution_count": 10,
   "metadata": {
    "slideshow": {
     "slide_type": "fragment"
    }
   },
   "outputs": [],
   "source": [
    "from nltk.corpus import stopwords\n",
    "# print(stopwords.words('russian'))"
   ]
  },
  {
   "cell_type": "code",
   "execution_count": 11,
   "metadata": {},
   "outputs": [
    {
     "name": "stdout",
     "output_type": "stream",
     "text": [
      "854\n"
     ]
    }
   ],
   "source": [
    "with open(\"./stopwords/stopwords_valid.txt\", 'r') as f:\n",
    "    stopw = f.readlines()\n",
    "\n",
    "# print(stopw)\n",
    "v_stopwords = list(set([x[:-1] for x in stopw]))\n",
    "print(len(v_stopwords))"
   ]
  },
  {
   "cell_type": "code",
   "execution_count": 12,
   "metadata": {
    "slideshow": {
     "slide_type": "subslide"
    }
   },
   "outputs": [
    {
     "name": "stdout",
     "output_type": "stream",
     "text": [
      "855\n"
     ]
    }
   ],
   "source": [
    "mystopwords = stopwords.words('russian') + v_stopwords\n",
    "\n",
    "mystopwords = list(set(mystopwords))\n",
    "print(len(mystopwords))\n",
    "\n",
    "def remove_stopwords(text, mystopwords = mystopwords):\n",
    "    try:\n",
    "        return \" \".join([token for token in text.split() if not token in mystopwords])\n",
    "    except:\n",
    "        return \"\"\n",
    " "
   ]
  },
  {
   "cell_type": "code",
   "execution_count": 13,
   "metadata": {
    "slideshow": {
     "slide_type": "subslide"
    }
   },
   "outputs": [],
   "source": [
    "from pymystem3 import Mystem\n",
    "\n",
    "m = Mystem()\n",
    "def lemmatize(text, mystem=m):\n",
    "    try:\n",
    "        return \"\".join(m.lemmatize(text)).strip()  \n",
    "    except:\n",
    "        return \" \""
   ]
  },
  {
   "cell_type": "code",
   "execution_count": 14,
   "metadata": {
    "slideshow": {
     "slide_type": "subslide"
    }
   },
   "outputs": [],
   "source": [
    "mystoplemmas = ['который','прошлый','сей', 'свой', 'наш', 'мочь'] # 'лс'\n",
    "def  remove_stoplemmas(text, mystoplemmas = mystoplemmas):\n",
    "    try:\n",
    "        return \" \".join([token for token in text.split() if not token in mystoplemmas])\n",
    "    except:\n",
    "        return \"\"\n"
   ]
  },
  {
   "cell_type": "code",
   "execution_count": null,
   "metadata": {
    "slideshow": {
     "slide_type": "subslide"
    }
   },
   "outputs": [],
   "source": [
    "df.message = df.message.apply(remove_stopwords) \n",
    "df.message = df.message.apply(lemmatize)\n",
    "df.message = df.message.apply(remove_stoplemmas) "
   ]
  },
  {
   "cell_type": "code",
   "execution_count": null,
   "metadata": {
    "scrolled": true,
    "slideshow": {
     "slide_type": "subslide"
    }
   },
   "outputs": [],
   "source": [
    "lemmata = []\n",
    "for index, row in df.iterrows():\n",
    "    lemmata += row['message'].split()\n",
    "fd = FreqDist(lemmata)\n",
    "for i in fd.most_common(100):\n",
    "    print(i)"
   ]
  },
  {
   "cell_type": "code",
   "execution_count": null,
   "metadata": {},
   "outputs": [],
   "source": [
    "freqs = list(fd.values())\n",
    "freqs = sorted(freqs, reverse = True)\n",
    "\n",
    "fig, ax = plt.subplots()\n",
    "ax.plot(range(len(freqs)), freqs)\n",
    "plt.show()"
   ]
  },
  {
   "cell_type": "code",
   "execution_count": null,
   "metadata": {
    "scrolled": true
   },
   "outputs": [],
   "source": [
    "for i in fd.most_common():\n",
    "    if i[1] < 400 and i[1] > 100:\n",
    "        print(i)"
   ]
  },
  {
   "cell_type": "code",
   "execution_count": null,
   "metadata": {},
   "outputs": [],
   "source": [
    "tokens_by_topic = []\n",
    "for topic in df['channel_id'].unique():\n",
    "    tokens = []\n",
    "    sample = df[df['channel_id']==topic]\n",
    "    for i in range(len(sample)):\n",
    "        tokens += sample.message.iloc[i].split()\n",
    "    tokens_by_topic.append(tokens)"
   ]
  },
  {
   "cell_type": "code",
   "execution_count": 20,
   "metadata": {
    "slideshow": {
     "slide_type": "subslide"
    }
   },
   "outputs": [
    {
     "data": {
      "text/plain": [
       "1018448328.0"
      ]
     },
     "execution_count": 20,
     "metadata": {},
     "output_type": "execute_result"
    }
   ],
   "source": [
    "# 1018448328 1222728626 1109035330 1303657131\n",
    "event_id = 0\n",
    "df['channel_id'].unique()[event_id]"
   ]
  },
  {
   "cell_type": "code",
   "execution_count": null,
   "metadata": {},
   "outputs": [],
   "source": [
    "import nltk\n",
    "from nltk.collocations import *\n",
    "N_best = 100 # число извлекаемых биграм\n",
    "\n",
    "bigram_measures = nltk.collocations.BigramAssocMeasures() # класс для мер ассоциации биграм\n",
    "finder = BigramCollocationFinder.from_words(tokens_by_topic[event_id]) # класс для хранения и извлечения биграм\n",
    "finder.apply_freq_filter(3) # избавимся от биграм, которые встречаются реже трех раз\n",
    "raw_freq_ranking = [' '.join(i) for i in finder.nbest(bigram_measures.raw_freq, N_best)] # выбираем топ-10 биграм по частоте \n",
    "tscore_ranking = [' '.join(i) for i in finder.nbest(bigram_measures.student_t, N_best)] # выбираем топ-100 биграм по каждой мере \n",
    "pmi_ranking =  [' '.join(i) for i in finder.nbest(bigram_measures.pmi, N_best)]\n",
    "llr_ranking = [' '. join(i) for i in finder.nbest(bigram_measures.likelihood_ratio, N_best)]\n",
    "chi2_ranking =  [' '.join(i) for i in finder.nbest(bigram_measures.chi_sq, N_best)]"
   ]
  },
  {
   "cell_type": "code",
   "execution_count": null,
   "metadata": {},
   "outputs": [],
   "source": [
    "rankings = pd.DataFrame({ 'chi2': chi2_ranking, 'llr':llr_ranking, 't-score' : tscore_ranking, 'pmi': pmi_ranking, 'raw_freq':raw_freq_ranking})\n",
    "rankings = rankings[['raw_freq', 'pmi', 't-score', 'chi2', 'llr']]\n",
    "rankings.head(10)"
   ]
  },
  {
   "cell_type": "code",
   "execution_count": null,
   "metadata": {},
   "outputs": [],
   "source": [
    "from scipy.stats import spearmanr\n",
    "import seaborn as sns\n",
    "%matplotlib inline\n",
    "corr = spearmanr(rankings).correlation\n",
    "sns.heatmap(corr, annot=True, xticklabels = list(rankings), yticklabels = list(rankings))"
   ]
  },
  {
   "cell_type": "markdown",
   "metadata": {},
   "source": [
    "### TextRank\n",
    "\n",
    "* Вершины графа: слова\n",
    "* Ребра графа могут определяться по следующим правилам:\n",
    "    * Последовательные слова\n",
    "    * Слова внутри левого или правого окна в $\\pm$ 2-5 слов  \n",
    "\n",
    "* Ребра могут быть взвешенные или невзвешенные, направленные или ненаправленные\n",
    "* Любая мера центральности графа используется для определения важности вершин в графе. Слова, соответствующие наиболее важным вершинам, считаются ключевыми. \n",
    "* Если две соседние вершины оказываются важными, соответствующие им слова формируют ключевое словосочетание.\n",
    "\n",
    "PageRank: $PR(V_i)=(1-d)+d \\times \\sum_{V_j \\in In(V_i)} \\frac{PR(V_j)}{|Out(V_j)|}$"
   ]
  },
  {
   "cell_type": "markdown",
   "metadata": {
    "slideshow": {
     "slide_type": "subslide"
    }
   },
   "source": [
    "Используем TextRank для извлечения ключевых слов:"
   ]
  },
  {
   "cell_type": "code",
   "execution_count": null,
   "metadata": {
    "slideshow": {
     "slide_type": "subslide"
    }
   },
   "outputs": [],
   "source": [
    "# %%time\n",
    "from gensim.summarization import keywords\n",
    "text = ' '.join(tokens_by_topic[event_id])\n",
    "kw = keywords(text)"
   ]
  },
  {
   "cell_type": "markdown",
   "metadata": {
    "slideshow": {
     "slide_type": "subslide"
    }
   },
   "source": [
    "Результаты:"
   ]
  },
  {
   "cell_type": "code",
   "execution_count": null,
   "metadata": {
    "scrolled": true,
    "slideshow": {
     "slide_type": "subslide"
    }
   },
   "outputs": [],
   "source": [
    "rankings = pd.DataFrame({'Text Rank': kw.split('\\n')})\n",
    "rankings.head(100)"
   ]
  },
  {
   "cell_type": "markdown",
   "metadata": {},
   "source": [
    "## RAKE\n",
    "\n",
    "* Кандидаты-фразы – все слова между разделителями – стоп-словами и знаками пунктуации\n",
    "* Оценка кадидата-фразы $p$: $\\frac{deg(p)}{freq(p)}$\n",
    "* Ограничения по частоте и количеству слов в кандидате-фразе\n",
    "\n",
    "Для RAKE нужны сырые тексты со стоп-словами."
   ]
  },
  {
   "cell_type": "markdown",
   "metadata": {},
   "source": [
    "### RAKE\n",
    "\n",
    "Для RAKE нужны сырые тексты со стоп-словами:"
   ]
  },
  {
   "cell_type": "code",
   "execution_count": 15,
   "metadata": {},
   "outputs": [
    {
     "data": {
      "text/html": [
       "<div>\n",
       "<style scoped>\n",
       "    .dataframe tbody tr th:only-of-type {\n",
       "        vertical-align: middle;\n",
       "    }\n",
       "\n",
       "    .dataframe tbody tr th {\n",
       "        vertical-align: top;\n",
       "    }\n",
       "\n",
       "    .dataframe thead th {\n",
       "        text-align: right;\n",
       "    }\n",
       "</style>\n",
       "<table border=\"1\" class=\"dataframe\">\n",
       "  <thead>\n",
       "    <tr style=\"text-align: right;\">\n",
       "      <th></th>\n",
       "      <th>channel_id</th>\n",
       "      <th>id</th>\n",
       "      <th>date</th>\n",
       "      <th>message</th>\n",
       "      <th>url</th>\n",
       "      <th>site_name</th>\n",
       "      <th>title</th>\n",
       "      <th>description</th>\n",
       "    </tr>\n",
       "  </thead>\n",
       "  <tbody>\n",
       "    <tr>\n",
       "      <th>0</th>\n",
       "      <td>1.018448e+09</td>\n",
       "      <td>3336.0</td>\n",
       "      <td>1.583513e+09</td>\n",
       "      <td>Нет, я вспомнил. есть хорошие новости, с котор...</td>\n",
       "      <td>https://spreadprivacy.com/duckduckgo-tracker-r...</td>\n",
       "      <td>DuckDuckGo Blog</td>\n",
       "      <td>DuckDuckGo Tracker Radar Exposes Hidden Tracking</td>\n",
       "      <td>DuckDuckGo Tracker Radar is a best-in-class, a...</td>\n",
       "    </tr>\n",
       "    <tr>\n",
       "      <th>1</th>\n",
       "      <td>1.018448e+09</td>\n",
       "      <td>3335.0</td>\n",
       "      <td>1.583511e+09</td>\n",
       "      <td>В Штатах, кажется, хотят сделать очень невыгод...</td>\n",
       "      <td>https://www.judiciary.senate.gov/press/rep/rel...</td>\n",
       "      <td>www.judiciary.senate.gov</td>\n",
       "      <td>Graham, Blumenthal, Hawley, Feinstein Introduc...</td>\n",
       "      <td>United States Senate Committee on the Judiciary</td>\n",
       "    </tr>\n",
       "    <tr>\n",
       "      <th>2</th>\n",
       "      <td>1.018448e+09</td>\n",
       "      <td>3334.0</td>\n",
       "      <td>1.583472e+09</td>\n",
       "      <td>аппаратная дыра в процессорах Intel, а точнее ...</td>\n",
       "      <td>https://blog.ptsecurity.com/2020/03/intelx86-r...</td>\n",
       "      <td>Ptsecurity</td>\n",
       "      <td>Intel x86 Root of Trust: loss of trust</td>\n",
       "      <td>The scenario that Intel system architects, eng...</td>\n",
       "    </tr>\n",
       "    <tr>\n",
       "      <th>3</th>\n",
       "      <td>1.018448e+09</td>\n",
       "      <td>3333.0</td>\n",
       "      <td>1.583430e+09</td>\n",
       "      <td>Let’s Encrypt пока что не будет отзывать часть...</td>\n",
       "      <td>https://community.letsencrypt.org/t/2020-02-29...</td>\n",
       "      <td>Let's Encrypt Community Support</td>\n",
       "      <td>2020.02.29 CAA Rechecking Bug</td>\n",
       "      <td>On 2020-02-29 UTC, Let’s Encrypt found a bug i...</td>\n",
       "    </tr>\n",
       "    <tr>\n",
       "      <th>4</th>\n",
       "      <td>1.018448e+09</td>\n",
       "      <td>3332.0</td>\n",
       "      <td>1.583409e+09</td>\n",
       "      <td>Интересное видео с выступлением менеджеров Mic...</td>\n",
       "      <td>https://www.youtube.com/watch?v=B_mhJO2qHlQ</td>\n",
       "      <td>YouTube</td>\n",
       "      <td>Breaking Password Dependencies: Challenges in ...</td>\n",
       "      <td>Lee Walker, Principal Architect, Microsoft Ale...</td>\n",
       "    </tr>\n",
       "  </tbody>\n",
       "</table>\n",
       "</div>"
      ],
      "text/plain": [
       "     channel_id      id          date  \\\n",
       "0  1.018448e+09  3336.0  1.583513e+09   \n",
       "1  1.018448e+09  3335.0  1.583511e+09   \n",
       "2  1.018448e+09  3334.0  1.583472e+09   \n",
       "3  1.018448e+09  3333.0  1.583430e+09   \n",
       "4  1.018448e+09  3332.0  1.583409e+09   \n",
       "\n",
       "                                             message  \\\n",
       "0  Нет, я вспомнил. есть хорошие новости, с котор...   \n",
       "1  В Штатах, кажется, хотят сделать очень невыгод...   \n",
       "2  аппаратная дыра в процессорах Intel, а точнее ...   \n",
       "3  Let’s Encrypt пока что не будет отзывать часть...   \n",
       "4  Интересное видео с выступлением менеджеров Mic...   \n",
       "\n",
       "                                                 url  \\\n",
       "0  https://spreadprivacy.com/duckduckgo-tracker-r...   \n",
       "1  https://www.judiciary.senate.gov/press/rep/rel...   \n",
       "2  https://blog.ptsecurity.com/2020/03/intelx86-r...   \n",
       "3  https://community.letsencrypt.org/t/2020-02-29...   \n",
       "4        https://www.youtube.com/watch?v=B_mhJO2qHlQ   \n",
       "\n",
       "                         site_name  \\\n",
       "0                  DuckDuckGo Blog   \n",
       "1         www.judiciary.senate.gov   \n",
       "2                       Ptsecurity   \n",
       "3  Let's Encrypt Community Support   \n",
       "4                          YouTube   \n",
       "\n",
       "                                               title  \\\n",
       "0   DuckDuckGo Tracker Radar Exposes Hidden Tracking   \n",
       "1  Graham, Blumenthal, Hawley, Feinstein Introduc...   \n",
       "2             Intel x86 Root of Trust: loss of trust   \n",
       "3                      2020.02.29 CAA Rechecking Bug   \n",
       "4  Breaking Password Dependencies: Challenges in ...   \n",
       "\n",
       "                                         description  \n",
       "0  DuckDuckGo Tracker Radar is a best-in-class, a...  \n",
       "1    United States Senate Committee on the Judiciary  \n",
       "2  The scenario that Intel system architects, eng...  \n",
       "3  On 2020-02-29 UTC, Let’s Encrypt found a bug i...  \n",
       "4  Lee Walker, Principal Architect, Microsoft Ale...  "
      ]
     },
     "execution_count": 15,
     "metadata": {},
     "output_type": "execute_result"
    }
   ],
   "source": [
    "raw_df = pd.read_csv('./dataset.csv')\n",
    "raw_df.head()"
   ]
  },
  {
   "cell_type": "code",
   "execution_count": 17,
   "metadata": {},
   "outputs": [
    {
     "data": {
      "text/plain": [
       "'нет я вспомнил есть хорошие новости с которыми вас можно оставить на длинные выходные популярный поисковик с фокусом на конфиденциальности пользовательских данных опубликовал в виде открытого исходного кода проект который содержит список из более чем тыс доменов принадлежащих почти тысячам компаний которые следят за пользователями в онлайне сами используют этот список в своих блокировщиках трекинга и предлагают другим компаниям использовать этот список в своих продуктах хорошее дело в общем'"
      ]
     },
     "execution_count": 17,
     "metadata": {},
     "output_type": "execute_result"
    }
   ],
   "source": [
    "df.message = df.message.str.lower()\n",
    "df.message = df.message.apply(words_only)\n",
    "\n",
    "df.message.iloc[0]"
   ]
  },
  {
   "cell_type": "code",
   "execution_count": 18,
   "metadata": {},
   "outputs": [],
   "source": [
    "raw_df.message = raw_df.message.apply(lemmatize)"
   ]
  },
  {
   "cell_type": "code",
   "execution_count": 21,
   "metadata": {
    "scrolled": true,
    "slideshow": {
     "slide_type": "subslide"
    }
   },
   "outputs": [
    {
     "data": {
      "text/plain": [
       "5941"
      ]
     },
     "execution_count": 21,
     "metadata": {},
     "output_type": "execute_result"
    }
   ],
   "source": [
    "text = ' '.join(raw_df[raw_df['channel_id'] == raw_df['channel_id'].unique()[event_id]].message.tolist())\n",
    "len(text)"
   ]
  },
  {
   "cell_type": "markdown",
   "metadata": {
    "slideshow": {
     "slide_type": "subslide"
    }
   },
   "source": [
    "Результаты RAKE:"
   ]
  },
  {
   "cell_type": "code",
   "execution_count": 24,
   "metadata": {
    "scrolled": true,
    "slideshow": {
     "slide_type": "subslide"
    }
   },
   "outputs": [
    {
     "data": {
      "text/html": [
       "<div>\n",
       "<style scoped>\n",
       "    .dataframe tbody tr th:only-of-type {\n",
       "        vertical-align: middle;\n",
       "    }\n",
       "\n",
       "    .dataframe tbody tr th {\n",
       "        vertical-align: top;\n",
       "    }\n",
       "\n",
       "    .dataframe thead th {\n",
       "        text-align: right;\n",
       "    }\n",
       "</style>\n",
       "<table border=\"1\" class=\"dataframe\">\n",
       "  <thead>\n",
       "    <tr style=\"text-align: right;\">\n",
       "      <th></th>\n",
       "      <th>RAKE</th>\n",
       "    </tr>\n",
       "  </thead>\n",
       "  <tbody>\n",
       "  </tbody>\n",
       "</table>\n",
       "</div>"
      ],
      "text/plain": [
       "Empty DataFrame\n",
       "Columns: [RAKE]\n",
       "Index: []"
      ]
     },
     "execution_count": 24,
     "metadata": {},
     "output_type": "execute_result"
    }
   ],
   "source": [
    "import RAKE\n",
    "\n",
    "Rake = RAKE.Rake(\"stopwords.txt\")\n",
    "kp = [i[0] for i in Rake.run(text)]\n",
    "rankings = pd.DataFrame({'RAKE': kp})\n",
    "rankings.head(100)"
   ]
  },
  {
   "cell_type": "code",
   "execution_count": null,
   "metadata": {},
   "outputs": [],
   "source": [
    "from sklearn.manifold import TSNE\n",
    "from sklearn.decomposition import TruncatedSVD\n",
    "from sklearn.pipeline import Pipeline\n",
    "from sklearn.preprocessing import Normalizer\n",
    "from sklearn.feature_extraction.text import *\n",
    "\n",
    "raw_df = df\n",
    "raw_df.message = raw_df.message.str.lower()\n",
    "raw_df.message = raw_df.message.apply(words_only)\n",
    "raw_df.message = raw_df.message.apply(lemmatize)\n",
    "\n",
    "vectors = TfidfVectorizer().fit_transform(raw_df.message)\n",
    "X_reduced = TruncatedSVD(n_components=5, random_state=0).fit_transform(vectors)\n",
    "X_embedded = TSNE(n_components=2, perplexity=5, verbose=0).fit_transform(X_reduced)"
   ]
  },
  {
   "cell_type": "code",
   "execution_count": null,
   "metadata": {},
   "outputs": [],
   "source": [
    "vis_df = pd.DataFrame({'X': X_embedded[:, 0], 'Y': X_embedded[:, 1], 'topic' : df['channel_id']})\n",
    "sns.FacetGrid(vis_df, hue=\"topic\", size=10).map(plt.scatter, \"X\", \"Y\").add_legend()\n",
    "# 1018448328 1222728626 1109035330 1303657131"
   ]
  },
  {
   "cell_type": "code",
   "execution_count": null,
   "metadata": {},
   "outputs": [],
   "source": []
  }
 ],
 "metadata": {
  "kernelspec": {
   "display_name": "Python 3",
   "language": "python",
   "name": "python3"
  },
  "language_info": {
   "codemirror_mode": {
    "name": "ipython",
    "version": 3
   },
   "file_extension": ".py",
   "mimetype": "text/x-python",
   "name": "python",
   "nbconvert_exporter": "python",
   "pygments_lexer": "ipython3",
   "version": "3.7.3"
  }
 },
 "nbformat": 4,
 "nbformat_minor": 2
}
