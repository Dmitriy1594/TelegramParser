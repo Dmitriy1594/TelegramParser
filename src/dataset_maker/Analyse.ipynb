{
 "cells": [
  {
   "cell_type": "code",
   "execution_count": 1,
   "metadata": {},
   "outputs": [],
   "source": [
    "import pandas as pd"
   ]
  },
  {
   "cell_type": "code",
   "execution_count": 2,
   "metadata": {
    "scrolled": false
   },
   "outputs": [
    {
     "data": {
      "text/html": [
       "<div>\n",
       "<style scoped>\n",
       "    .dataframe tbody tr th:only-of-type {\n",
       "        vertical-align: middle;\n",
       "    }\n",
       "\n",
       "    .dataframe tbody tr th {\n",
       "        vertical-align: top;\n",
       "    }\n",
       "\n",
       "    .dataframe thead th {\n",
       "        text-align: right;\n",
       "    }\n",
       "</style>\n",
       "<table border=\"1\" class=\"dataframe\">\n",
       "  <thead>\n",
       "    <tr style=\"text-align: right;\">\n",
       "      <th></th>\n",
       "      <th>channel_id</th>\n",
       "      <th>id</th>\n",
       "      <th>date</th>\n",
       "      <th>message</th>\n",
       "      <th>url</th>\n",
       "      <th>site_name</th>\n",
       "      <th>title</th>\n",
       "      <th>description</th>\n",
       "      <th>class</th>\n",
       "    </tr>\n",
       "  </thead>\n",
       "  <tbody>\n",
       "    <tr>\n",
       "      <th>0</th>\n",
       "      <td>1.018448e+09</td>\n",
       "      <td>3336.0</td>\n",
       "      <td>1.583513e+09</td>\n",
       "      <td>Нет, я вспомнил. есть хорошие новости, с котор...</td>\n",
       "      <td>https://spreadprivacy.com/duckduckgo-tracker-r...</td>\n",
       "      <td>DuckDuckGo Blog</td>\n",
       "      <td>DuckDuckGo Tracker Radar Exposes Hidden Tracking</td>\n",
       "      <td>DuckDuckGo Tracker Radar is a best-in-class, a...</td>\n",
       "      <td>2.0</td>\n",
       "    </tr>\n",
       "    <tr>\n",
       "      <th>1</th>\n",
       "      <td>1.018448e+09</td>\n",
       "      <td>3335.0</td>\n",
       "      <td>1.583511e+09</td>\n",
       "      <td>В Штатах, кажется, хотят сделать очень невыгод...</td>\n",
       "      <td>https://www.judiciary.senate.gov/press/rep/rel...</td>\n",
       "      <td>www.judiciary.senate.gov</td>\n",
       "      <td>Graham, Blumenthal, Hawley, Feinstein Introduc...</td>\n",
       "      <td>United States Senate Committee on the Judiciary</td>\n",
       "      <td>2.0</td>\n",
       "    </tr>\n",
       "    <tr>\n",
       "      <th>2</th>\n",
       "      <td>1.018448e+09</td>\n",
       "      <td>3334.0</td>\n",
       "      <td>1.583472e+09</td>\n",
       "      <td>аппаратная дыра в процессорах Intel, а точнее ...</td>\n",
       "      <td>https://blog.ptsecurity.com/2020/03/intelx86-r...</td>\n",
       "      <td>Ptsecurity</td>\n",
       "      <td>Intel x86 Root of Trust: loss of trust</td>\n",
       "      <td>The scenario that Intel system architects, eng...</td>\n",
       "      <td>5.0</td>\n",
       "    </tr>\n",
       "    <tr>\n",
       "      <th>3</th>\n",
       "      <td>1.018448e+09</td>\n",
       "      <td>3333.0</td>\n",
       "      <td>1.583430e+09</td>\n",
       "      <td>Let’s Encrypt пока что не будет отзывать часть...</td>\n",
       "      <td>https://community.letsencrypt.org/t/2020-02-29...</td>\n",
       "      <td>Let's Encrypt Community Support</td>\n",
       "      <td>2020.02.29 CAA Rechecking Bug</td>\n",
       "      <td>On 2020-02-29 UTC, Let’s Encrypt found a bug i...</td>\n",
       "      <td>5.0</td>\n",
       "    </tr>\n",
       "    <tr>\n",
       "      <th>4</th>\n",
       "      <td>1.018448e+09</td>\n",
       "      <td>3332.0</td>\n",
       "      <td>1.583409e+09</td>\n",
       "      <td>Интересное видео с выступлением менеджеров Mic...</td>\n",
       "      <td>https://www.youtube.com/watch?v=B_mhJO2qHlQ</td>\n",
       "      <td>YouTube</td>\n",
       "      <td>Breaking Password Dependencies: Challenges in ...</td>\n",
       "      <td>Lee Walker, Principal Architect, Microsoft Ale...</td>\n",
       "      <td>2.0</td>\n",
       "    </tr>\n",
       "  </tbody>\n",
       "</table>\n",
       "</div>"
      ],
      "text/plain": [
       "     channel_id      id          date  \\\n",
       "0  1.018448e+09  3336.0  1.583513e+09   \n",
       "1  1.018448e+09  3335.0  1.583511e+09   \n",
       "2  1.018448e+09  3334.0  1.583472e+09   \n",
       "3  1.018448e+09  3333.0  1.583430e+09   \n",
       "4  1.018448e+09  3332.0  1.583409e+09   \n",
       "\n",
       "                                             message  \\\n",
       "0  Нет, я вспомнил. есть хорошие новости, с котор...   \n",
       "1  В Штатах, кажется, хотят сделать очень невыгод...   \n",
       "2  аппаратная дыра в процессорах Intel, а точнее ...   \n",
       "3  Let’s Encrypt пока что не будет отзывать часть...   \n",
       "4  Интересное видео с выступлением менеджеров Mic...   \n",
       "\n",
       "                                                 url  \\\n",
       "0  https://spreadprivacy.com/duckduckgo-tracker-r...   \n",
       "1  https://www.judiciary.senate.gov/press/rep/rel...   \n",
       "2  https://blog.ptsecurity.com/2020/03/intelx86-r...   \n",
       "3  https://community.letsencrypt.org/t/2020-02-29...   \n",
       "4        https://www.youtube.com/watch?v=B_mhJO2qHlQ   \n",
       "\n",
       "                         site_name  \\\n",
       "0                  DuckDuckGo Blog   \n",
       "1         www.judiciary.senate.gov   \n",
       "2                       Ptsecurity   \n",
       "3  Let's Encrypt Community Support   \n",
       "4                          YouTube   \n",
       "\n",
       "                                               title  \\\n",
       "0   DuckDuckGo Tracker Radar Exposes Hidden Tracking   \n",
       "1  Graham, Blumenthal, Hawley, Feinstein Introduc...   \n",
       "2             Intel x86 Root of Trust: loss of trust   \n",
       "3                      2020.02.29 CAA Rechecking Bug   \n",
       "4  Breaking Password Dependencies: Challenges in ...   \n",
       "\n",
       "                                         description  class  \n",
       "0  DuckDuckGo Tracker Radar is a best-in-class, a...    2.0  \n",
       "1    United States Senate Committee on the Judiciary    2.0  \n",
       "2  The scenario that Intel system architects, eng...    5.0  \n",
       "3  On 2020-02-29 UTC, Let’s Encrypt found a bug i...    5.0  \n",
       "4  Lee Walker, Principal Architect, Microsoft Ale...    2.0  "
      ]
     },
     "execution_count": 2,
     "metadata": {},
     "output_type": "execute_result"
    }
   ],
   "source": [
    "d = pd.read_csv('./dataset_classes.csv')\n",
    "d.head()"
   ]
  },
  {
   "cell_type": "code",
   "execution_count": 3,
   "metadata": {},
   "outputs": [],
   "source": [
    "filter_1 = d['class'] == 1.\n",
    "filter_2 = d['class'] == 2.\n",
    "filter_3 = d['class'] == 3.\n",
    "filter_4 = d['class'] == 4.\n",
    "filter_5 = d['class'] == 5.\n",
    "filter_6 = d['class'] == 5\n",
    "\n",
    "df = d.loc[filter_1 | filter_2 | filter_3 | filter_4 | filter_5 | filter_6]"
   ]
  },
  {
   "cell_type": "code",
   "execution_count": 4,
   "metadata": {},
   "outputs": [
    {
     "data": {
      "text/plain": [
       "array([2., 5., 4., 1., 3.])"
      ]
     },
     "execution_count": 4,
     "metadata": {},
     "output_type": "execute_result"
    }
   ],
   "source": [
    "df['class'].unique()"
   ]
  },
  {
   "cell_type": "code",
   "execution_count": 5,
   "metadata": {
    "scrolled": true
   },
   "outputs": [
    {
     "data": {
      "text/html": [
       "<div>\n",
       "<style scoped>\n",
       "    .dataframe tbody tr th:only-of-type {\n",
       "        vertical-align: middle;\n",
       "    }\n",
       "\n",
       "    .dataframe tbody tr th {\n",
       "        vertical-align: top;\n",
       "    }\n",
       "\n",
       "    .dataframe thead th {\n",
       "        text-align: right;\n",
       "    }\n",
       "</style>\n",
       "<table border=\"1\" class=\"dataframe\">\n",
       "  <thead>\n",
       "    <tr style=\"text-align: right;\">\n",
       "      <th></th>\n",
       "      <th>channel_id</th>\n",
       "      <th>id</th>\n",
       "      <th>date</th>\n",
       "      <th>class</th>\n",
       "    </tr>\n",
       "  </thead>\n",
       "  <tbody>\n",
       "    <tr>\n",
       "      <th>count</th>\n",
       "      <td>1.290000e+03</td>\n",
       "      <td>1290.000000</td>\n",
       "      <td>1.290000e+03</td>\n",
       "      <td>1290.000000</td>\n",
       "    </tr>\n",
       "    <tr>\n",
       "      <th>mean</th>\n",
       "      <td>1.210020e+09</td>\n",
       "      <td>274150.023256</td>\n",
       "      <td>1.582899e+09</td>\n",
       "      <td>2.963566</td>\n",
       "    </tr>\n",
       "    <tr>\n",
       "      <th>std</th>\n",
       "      <td>1.107565e+08</td>\n",
       "      <td>197209.045521</td>\n",
       "      <td>2.077876e+06</td>\n",
       "      <td>0.901377</td>\n",
       "    </tr>\n",
       "    <tr>\n",
       "      <th>min</th>\n",
       "      <td>1.018448e+09</td>\n",
       "      <td>3137.000000</td>\n",
       "      <td>1.573583e+09</td>\n",
       "      <td>1.000000</td>\n",
       "    </tr>\n",
       "    <tr>\n",
       "      <th>25%</th>\n",
       "      <td>1.109035e+09</td>\n",
       "      <td>5377.250000</td>\n",
       "      <td>1.583533e+09</td>\n",
       "      <td>3.000000</td>\n",
       "    </tr>\n",
       "    <tr>\n",
       "      <th>50%</th>\n",
       "      <td>1.303657e+09</td>\n",
       "      <td>454546.500000</td>\n",
       "      <td>1.583616e+09</td>\n",
       "      <td>3.000000</td>\n",
       "    </tr>\n",
       "    <tr>\n",
       "      <th>75%</th>\n",
       "      <td>1.303657e+09</td>\n",
       "      <td>454918.750000</td>\n",
       "      <td>1.583694e+09</td>\n",
       "      <td>3.000000</td>\n",
       "    </tr>\n",
       "    <tr>\n",
       "      <th>max</th>\n",
       "      <td>1.303657e+09</td>\n",
       "      <td>455245.000000</td>\n",
       "      <td>1.583758e+09</td>\n",
       "      <td>5.000000</td>\n",
       "    </tr>\n",
       "  </tbody>\n",
       "</table>\n",
       "</div>"
      ],
      "text/plain": [
       "         channel_id             id          date        class\n",
       "count  1.290000e+03    1290.000000  1.290000e+03  1290.000000\n",
       "mean   1.210020e+09  274150.023256  1.582899e+09     2.963566\n",
       "std    1.107565e+08  197209.045521  2.077876e+06     0.901377\n",
       "min    1.018448e+09    3137.000000  1.573583e+09     1.000000\n",
       "25%    1.109035e+09    5377.250000  1.583533e+09     3.000000\n",
       "50%    1.303657e+09  454546.500000  1.583616e+09     3.000000\n",
       "75%    1.303657e+09  454918.750000  1.583694e+09     3.000000\n",
       "max    1.303657e+09  455245.000000  1.583758e+09     5.000000"
      ]
     },
     "execution_count": 5,
     "metadata": {},
     "output_type": "execute_result"
    }
   ],
   "source": [
    "df.describe()"
   ]
  },
  {
   "cell_type": "code",
   "execution_count": 6,
   "metadata": {},
   "outputs": [
    {
     "name": "stderr",
     "output_type": "stream",
     "text": [
      "/Users/romakindmitriy/anaconda3/lib/python3.7/site-packages/pandas/core/series.py:4303: SettingWithCopyWarning: \n",
      "A value is trying to be set on a copy of a slice from a DataFrame\n",
      "\n",
      "See the caveats in the documentation: http://pandas.pydata.org/pandas-docs/stable/indexing.html#indexing-view-versus-copy\n",
      "  self._update_inplace(result)\n"
     ]
    },
    {
     "data": {
      "text/plain": [
       "count    1261.000000\n",
       "mean      129.474227\n",
       "std       282.352625\n",
       "min         1.000000\n",
       "25%        10.000000\n",
       "50%        25.000000\n",
       "75%        86.000000\n",
       "max      3191.000000\n",
       "Name: message, dtype: float64"
      ]
     },
     "execution_count": 6,
     "metadata": {},
     "output_type": "execute_result"
    }
   ],
   "source": [
    "df.message.dropna(inplace = True)\n",
    "len_data = df.message.apply(len)\n",
    "len_data.describe()"
   ]
  },
  {
   "cell_type": "code",
   "execution_count": 7,
   "metadata": {},
   "outputs": [
    {
     "data": {
      "image/png": "[encoded data removed]",
      "text/plain": [
       "<Figure size 432x288 with 1 Axes>"
      ]
     },
     "metadata": {
      "needs_background": "light"
     },
     "output_type": "display_data"
    }
   ],
   "source": [
    "import matplotlib.pyplot as plt\n",
    "import numpy as np \n",
    "%matplotlib inline\n",
    "\n",
    "counts = df.channel_id.value_counts()\n",
    "values = counts.tolist()\n",
    "labels = counts.index.tolist()\n",
    "\n",
    "\n",
    "y_pos = np.arange(len(labels))\n",
    "\n",
    " \n",
    "plt.bar(y_pos, values, align='center', alpha=0.5)\n",
    "plt.xticks(y_pos, range(len(labels)))\n",
    "\n",
    " \n",
    "plt.show()"
   ]
  },
  {
   "cell_type": "code",
   "execution_count": 8,
   "metadata": {},
   "outputs": [
    {
     "name": "stderr",
     "output_type": "stream",
     "text": [
      "/Users/romakindmitriy/anaconda3/lib/python3.7/site-packages/matplotlib/figure.py:445: UserWarning: Matplotlib is currently using module://ipykernel.pylab.backend_inline, which is a non-GUI backend, so cannot show the figure.\n",
      "  % get_backend())\n"
     ]
    },
    {
     "data": {
      "image/png": "[encoded data removed]",
      "text/plain": [
       "<Figure size 432x288 with 1 Axes>"
      ]
     },
     "metadata": {
      "needs_background": "light"
     },
     "output_type": "display_data"
    }
   ],
   "source": [
    "fig, ax = plt.subplots()\n",
    "\n",
    "length = len_data[len_data < 10000].tolist()\n",
    "\n",
    "n, bins, patches = ax.hist(length)\n",
    "\n",
    "fig.show()"
   ]
  },
  {
   "cell_type": "code",
   "execution_count": 9,
   "metadata": {
    "slideshow": {
     "slide_type": "fragment"
    }
   },
   "outputs": [],
   "source": [
    "import re\n",
    "regex = re.compile(\"[А-Яа-я]+\")\n",
    "\n",
    "def words_only(text, regex=regex):\n",
    "    try:\n",
    "        return \" \".join(regex.findall(text))\n",
    "    except:\n",
    "        return \"\""
   ]
  },
  {
   "cell_type": "code",
   "execution_count": 10,
   "metadata": {},
   "outputs": [
    {
     "name": "stderr",
     "output_type": "stream",
     "text": [
      "/Users/romakindmitriy/anaconda3/lib/python3.7/site-packages/pandas/core/generic.py:5096: SettingWithCopyWarning: \n",
      "A value is trying to be set on a copy of a slice from a DataFrame.\n",
      "Try using .loc[row_indexer,col_indexer] = value instead\n",
      "\n",
      "See the caveats in the documentation: http://pandas.pydata.org/pandas-docs/stable/indexing.html#indexing-view-versus-copy\n",
      "  self[name] = value\n"
     ]
    },
    {
     "data": {
      "text/plain": [
       "'нет я вспомнил есть хорошие новости с которыми вас можно оставить на длинные выходные популярный поисковик с фокусом на конфиденциальности пользовательских данных опубликовал в виде открытого исходного кода проект который содержит список из более чем тыс доменов принадлежащих почти тысячам компаний которые следят за пользователями в онлайне сами используют этот список в своих блокировщиках трекинга и предлагают другим компаниям использовать этот список в своих продуктах хорошее дело в общем'"
      ]
     },
     "execution_count": 10,
     "metadata": {},
     "output_type": "execute_result"
    }
   ],
   "source": [
    "df.message = df.message.str.lower()\n",
    "df.message = df.message.apply(words_only)\n",
    "\n",
    "df.message.iloc[0]"
   ]
  },
  {
   "cell_type": "markdown",
   "metadata": {
    "slideshow": {
     "slide_type": "subslide"
    }
   },
   "source": [
    "### Самые частые слова"
   ]
  },
  {
   "cell_type": "code",
   "execution_count": 11,
   "metadata": {
    "slideshow": {
     "slide_type": "fragment"
    }
   },
   "outputs": [
    {
     "name": "stdout",
     "output_type": "stream",
     "text": [
      "('в', 578)\n",
      "('и', 519)\n",
      "('на', 267)\n",
      "('что', 248)\n",
      "('не', 248)\n",
      "('с', 225)\n",
      "('к', 169)\n",
      "('как', 164)\n",
      "('по', 149)\n",
      "('для', 141)\n"
     ]
    }
   ],
   "source": [
    "from nltk import FreqDist\n",
    "n_types = []\n",
    "n_tokens = []\n",
    "tokens = []\n",
    "fd = FreqDist()\n",
    "for index, row in df.iterrows():\n",
    "    tokens = row['message'].split()\n",
    "    fd.update(tokens)\n",
    "    n_types.append(len(fd))\n",
    "    n_tokens.append(sum(fd.values()))\n",
    "for i in fd.most_common(10):\n",
    "    print(i)"
   ]
  },
  {
   "cell_type": "code",
   "execution_count": 12,
   "metadata": {},
   "outputs": [],
   "source": [
    "from nltk.corpus import stopwords\n",
    "# print(stopwords.words('russian'))"
   ]
  },
  {
   "cell_type": "code",
   "execution_count": 20,
   "metadata": {},
   "outputs": [
    {
     "name": "stdout",
     "output_type": "stream",
     "text": [
      "854\n"
     ]
    }
   ],
   "source": [
    "with open(\"/Users/romakindmitriy/PycharmProjects/TelegramParser/docs/stopwords/fullstopwords.txt\", 'r') as f:\n",
    "    stopw = f.readlines()\n",
    "\n",
    "# print(stopw)\n",
    "v_stopwords = list(set([x[:-1] for x in stopw]))\n",
    "print(len(v_stopwords))"
   ]
  },
  {
   "cell_type": "code",
   "execution_count": 21,
   "metadata": {},
   "outputs": [],
   "source": [
    "mystopwords = stopwords.words('russian') + v_stopwords\n",
    "mystopwords = list(set(mystopwords))"
   ]
  },
  {
   "cell_type": "code",
   "execution_count": 22,
   "metadata": {},
   "outputs": [],
   "source": [
    "def remove_stopwords(text, mystopwords = mystopwords):\n",
    "    try:\n",
    "        return \" \".join([token for token in text.split() if not token in mystopwords])\n",
    "    except:\n",
    "        return \"\"\n",
    " "
   ]
  },
  {
   "cell_type": "code",
   "execution_count": 23,
   "metadata": {},
   "outputs": [],
   "source": [
    "from pymystem3 import Mystem\n",
    "\n",
    "m = Mystem()\n",
    "def lemmatize(text, mystem=m):\n",
    "    try:\n",
    "        return \"\".join(m.lemmatize(text)).strip()  \n",
    "    except:\n",
    "        return \" \""
   ]
  },
  {
   "cell_type": "code",
   "execution_count": 24,
   "metadata": {},
   "outputs": [],
   "source": [
    "mystoplemmas = ['который','прошлый','сей', 'свой', 'наш', 'мочь', 'лс', 'год']\n",
    "\n",
    "def remove_stoplemmas(text, mystoplemmas = mystoplemmas):\n",
    "    try:\n",
    "        return \" \".join([token for token in text.split() if not token in mystoplemmas])\n",
    "    except:\n",
    "        return \"\""
   ]
  },
  {
   "cell_type": "code",
   "execution_count": 25,
   "metadata": {},
   "outputs": [],
   "source": [
    "df.message = df.message.apply(remove_stopwords) \n",
    "df.message = df.message.apply(lemmatize)\n",
    "df.message = df.message.apply(remove_stoplemmas) "
   ]
  },
  {
   "cell_type": "code",
   "execution_count": 26,
   "metadata": {
    "scrolled": true
   },
   "outputs": [
    {
     "name": "stdout",
     "output_type": "stream",
     "text": [
      "('гарант', 39)\n",
      "('сфера', 39)\n",
      "('взлом', 34)\n",
      "('админ', 31)\n",
      "('сша', 27)\n",
      "('купить', 27)\n",
      "('камера', 26)\n",
      "('чат', 24)\n",
      "('вредоносный', 21)\n",
      "('документ', 21)\n",
      "('сс', 20)\n",
      "('палка', 20)\n",
      "('кук', 19)\n",
      "('карта', 19)\n",
      "('код', 18)\n",
      "('злоумышленник', 18)\n",
      "('настройка', 18)\n",
      "('баланс', 18)\n",
      "('почта', 17)\n",
      "('распознавание', 17)\n",
      "('клиент', 17)\n",
      "('фотография', 17)\n",
      "('онлайн', 16)\n",
      "('сервер', 16)\n",
      "('утечка', 16)\n",
      "('продукт', 15)\n",
      "('защита', 15)\n",
      "('пара', 15)\n",
      "('видео', 15)\n",
      "('ключ', 15)\n",
      "('апдейт', 15)\n",
      "('браузер', 15)\n",
      "('юс', 15)\n",
      "('смартфон', 14)\n",
      "('доступный', 14)\n",
      "('бесплатный', 14)\n",
      "('пробивать', 14)\n",
      "('атака', 13)\n",
      "('продажа', 13)\n",
      "('умный', 13)\n",
      "('файл', 13)\n",
      "('фбр', 13)\n",
      "('сотрудник', 13)\n",
      "('пас', 13)\n",
      "('орган', 12)\n",
      "('эксперт', 12)\n",
      "('связь', 12)\n",
      "('алгоритм', 12)\n",
      "('геолокация', 12)\n",
      "('реклама', 12)\n",
      "('акка', 12)\n",
      "('отработка', 12)\n",
      "('скам', 12)\n",
      "('популярный', 11)\n",
      "('пользовательский', 11)\n",
      "('эксплуатация', 11)\n",
      "('правоохранительный', 11)\n",
      "('выплата', 11)\n",
      "('че', 11)\n",
      "('линк', 11)\n",
      "('сап', 11)\n",
      "('крот', 11)\n",
      "('контент', 10)\n",
      "('фб', 10)\n",
      "('ставить', 10)\n",
      "('магазин', 10)\n",
      "('прод', 10)\n",
      "('ххххххххх', 10)\n",
      "('рт', 10)\n",
      "('оставлять', 9)\n",
      "('оператор', 9)\n",
      "('слежка', 9)\n",
      "('облачный', 9)\n",
      "('программа', 9)\n",
      "('запрос', 9)\n",
      "('известный', 9)\n",
      "('патч', 9)\n",
      "('фейк', 9)\n",
      "('иметься', 9)\n",
      "('логово', 9)\n",
      "('зелл', 9)\n",
      "('обратно', 9)\n",
      "('бтц', 9)\n",
      "('дроп', 9)\n",
      "('отписывать', 9)\n",
      "('шифрование', 8)\n",
      "('разумеется', 8)\n",
      "('зашифровывать', 8)\n",
      "('полностью', 8)\n",
      "('взламывать', 8)\n",
      "('логин', 8)\n",
      "('разработчик', 8)\n",
      "('поддержка', 8)\n",
      "('чип', 8)\n",
      "('запрещать', 8)\n",
      "('заключаться', 8)\n",
      "('правительство', 8)\n",
      "('расширение', 8)\n",
      "('фейсбук', 8)\n",
      "('решение', 8)\n"
     ]
    }
   ],
   "source": [
    "lemmata = []\n",
    "for index, row in df.iterrows():\n",
    "    lemmata += row['message'].split()\n",
    "fd = FreqDist(lemmata)\n",
    "for i in fd.most_common(100):\n",
    "    print(i)"
   ]
  },
  {
   "cell_type": "code",
   "execution_count": 27,
   "metadata": {
    "slideshow": {
     "slide_type": "subslide"
    }
   },
   "outputs": [],
   "source": [
    "tokens_by_topic = []\n",
    "for topic in df['class'].unique():\n",
    "    tokens = []\n",
    "    sample = df[df['class']==topic]\n",
    "    for i in range(len(sample)):\n",
    "        tokens += sample.message.iloc[i].split()\n",
    "    tokens_by_topic.append(tokens)"
   ]
  },
  {
   "cell_type": "code",
   "execution_count": 28,
   "metadata": {},
   "outputs": [
    {
     "data": {
      "text/plain": [
       "array([2., 5., 4., 1., 3.])"
      ]
     },
     "execution_count": 28,
     "metadata": {},
     "output_type": "execute_result"
    }
   ],
   "source": [
    "df['class'].unique()"
   ]
  },
  {
   "cell_type": "markdown",
   "metadata": {
    "slideshow": {
     "slide_type": "subslide"
    }
   },
   "source": [
    "Выберем событие, из текстов про которое будем извлекать ключевые слова:"
   ]
  },
  {
   "cell_type": "code",
   "execution_count": 29,
   "metadata": {
    "slideshow": {
     "slide_type": "subslide"
    }
   },
   "outputs": [
    {
     "data": {
      "text/plain": [
       "2.0"
      ]
     },
     "execution_count": 29,
     "metadata": {},
     "output_type": "execute_result"
    }
   ],
   "source": [
    "event_id = 0\n",
    "df['class'].unique()[event_id]"
   ]
  },
  {
   "cell_type": "code",
   "execution_count": 30,
   "metadata": {
    "slideshow": {
     "slide_type": "subslide"
    }
   },
   "outputs": [],
   "source": [
    "# %%time \n",
    "import nltk\n",
    "from nltk.collocations import *\n",
    "N_best = 100 # число извлекаемых биграм\n",
    "\n",
    "bigram_measures = nltk.collocations.BigramAssocMeasures() # класс для мер ассоциации биграм\n",
    "finder = BigramCollocationFinder.from_words(tokens_by_topic[event_id]) # класс для хранения и извлечения биграм\n",
    "finder.apply_freq_filter(3) # избавимся от биграм, которые встречаются реже трех раз\n",
    "raw_freq_ranking = [' '.join(i) for i in finder.nbest(bigram_measures.raw_freq, N_best)] # выбираем топ-10 биграм по частоте \n",
    "tscore_ranking = [' '.join(i) for i in finder.nbest(bigram_measures.student_t, N_best)] # выбираем топ-100 биграм по каждой мере \n",
    "pmi_ranking =  [' '.join(i) for i in finder.nbest(bigram_measures.pmi, N_best)]\n",
    "llr_ranking = [' '. join(i) for i in finder.nbest(bigram_measures.likelihood_ratio, N_best)]\n",
    "chi2_ranking =  [' '.join(i) for i in finder.nbest(bigram_measures.chi_sq, N_best)]"
   ]
  },
  {
   "cell_type": "markdown",
   "metadata": {
    "slideshow": {
     "slide_type": "subslide"
    }
   },
   "source": [
    "Результаты:"
   ]
  },
  {
   "cell_type": "code",
   "execution_count": 31,
   "metadata": {
    "slideshow": {
     "slide_type": "subslide"
    }
   },
   "outputs": [
    {
     "data": {
      "text/html": [
       "<div>\n",
       "<style scoped>\n",
       "    .dataframe tbody tr th:only-of-type {\n",
       "        vertical-align: middle;\n",
       "    }\n",
       "\n",
       "    .dataframe tbody tr th {\n",
       "        vertical-align: top;\n",
       "    }\n",
       "\n",
       "    .dataframe thead th {\n",
       "        text-align: right;\n",
       "    }\n",
       "</style>\n",
       "<table border=\"1\" class=\"dataframe\">\n",
       "  <thead>\n",
       "    <tr style=\"text-align: right;\">\n",
       "      <th></th>\n",
       "      <th>raw_freq</th>\n",
       "      <th>pmi</th>\n",
       "      <th>t-score</th>\n",
       "      <th>chi2</th>\n",
       "      <th>llr</th>\n",
       "    </tr>\n",
       "  </thead>\n",
       "  <tbody>\n",
       "    <tr>\n",
       "      <th>0</th>\n",
       "      <td>правоохранительный орган</td>\n",
       "      <td>саудовский аравия</td>\n",
       "      <td>правоохранительный орган</td>\n",
       "      <td>саудовский аравия</td>\n",
       "      <td>правоохранительный орган</td>\n",
       "    </tr>\n",
       "    <tr>\n",
       "      <th>1</th>\n",
       "      <td>джефф безос</td>\n",
       "      <td>фоновый режим</td>\n",
       "      <td>фоновый режим</td>\n",
       "      <td>фоновый режим</td>\n",
       "      <td>фоновый режим</td>\n",
       "    </tr>\n",
       "    <tr>\n",
       "      <th>2</th>\n",
       "      <td>фоновый режим</td>\n",
       "      <td>комбинация логинов</td>\n",
       "      <td>джефф безос</td>\n",
       "      <td>правоохранительный орган</td>\n",
       "      <td>джефф безос</td>\n",
       "    </tr>\n",
       "    <tr>\n",
       "      <th>3</th>\n",
       "      <td>алгоритм распознавание</td>\n",
       "      <td>джефф безос</td>\n",
       "      <td>саудовский аравия</td>\n",
       "      <td>джефф безос</td>\n",
       "      <td>саудовский аравия</td>\n",
       "    </tr>\n",
       "    <tr>\n",
       "      <th>4</th>\n",
       "      <td>аппаратный ключ</td>\n",
       "      <td>аппаратный ключ</td>\n",
       "      <td>комбинация логинов</td>\n",
       "      <td>комбинация логинов</td>\n",
       "      <td>комбинация логинов</td>\n",
       "    </tr>\n",
       "    <tr>\n",
       "      <th>5</th>\n",
       "      <td>геолокация фоновый</td>\n",
       "      <td>разумеется отрицать</td>\n",
       "      <td>аппаратный ключ</td>\n",
       "      <td>аппаратный ключ</td>\n",
       "      <td>аппаратный ключ</td>\n",
       "    </tr>\n",
       "    <tr>\n",
       "      <th>6</th>\n",
       "      <td>комбинация логинов</td>\n",
       "      <td>правоохранительный орган</td>\n",
       "      <td>разумеется отрицать</td>\n",
       "      <td>разумеется отрицать</td>\n",
       "      <td>разумеется отрицать</td>\n",
       "    </tr>\n",
       "    <tr>\n",
       "      <th>7</th>\n",
       "      <td>онлайн эксплуатация</td>\n",
       "      <td>геолокация фоновый</td>\n",
       "      <td>геолокация фоновый</td>\n",
       "      <td>геолокация фоновый</td>\n",
       "      <td>геолокация фоновый</td>\n",
       "    </tr>\n",
       "    <tr>\n",
       "      <th>8</th>\n",
       "      <td>правительство сша</td>\n",
       "      <td>шифрование продукт</td>\n",
       "      <td>шифрование продукт</td>\n",
       "      <td>шифрование продукт</td>\n",
       "      <td>шифрование продукт</td>\n",
       "    </tr>\n",
       "    <tr>\n",
       "      <th>9</th>\n",
       "      <td>разумеется отрицать</td>\n",
       "      <td>онлайн эксплуатация</td>\n",
       "      <td>онлайн эксплуатация</td>\n",
       "      <td>онлайн эксплуатация</td>\n",
       "      <td>онлайн эксплуатация</td>\n",
       "    </tr>\n",
       "  </tbody>\n",
       "</table>\n",
       "</div>"
      ],
      "text/plain": [
       "                   raw_freq                       pmi  \\\n",
       "0  правоохранительный орган         саудовский аравия   \n",
       "1               джефф безос             фоновый режим   \n",
       "2             фоновый режим        комбинация логинов   \n",
       "3    алгоритм распознавание               джефф безос   \n",
       "4           аппаратный ключ           аппаратный ключ   \n",
       "5        геолокация фоновый       разумеется отрицать   \n",
       "6        комбинация логинов  правоохранительный орган   \n",
       "7       онлайн эксплуатация        геолокация фоновый   \n",
       "8         правительство сша        шифрование продукт   \n",
       "9       разумеется отрицать       онлайн эксплуатация   \n",
       "\n",
       "                    t-score                      chi2  \\\n",
       "0  правоохранительный орган         саудовский аравия   \n",
       "1             фоновый режим             фоновый режим   \n",
       "2               джефф безос  правоохранительный орган   \n",
       "3         саудовский аравия               джефф безос   \n",
       "4        комбинация логинов        комбинация логинов   \n",
       "5           аппаратный ключ           аппаратный ключ   \n",
       "6       разумеется отрицать       разумеется отрицать   \n",
       "7        геолокация фоновый        геолокация фоновый   \n",
       "8        шифрование продукт        шифрование продукт   \n",
       "9       онлайн эксплуатация       онлайн эксплуатация   \n",
       "\n",
       "                        llr  \n",
       "0  правоохранительный орган  \n",
       "1             фоновый режим  \n",
       "2               джефф безос  \n",
       "3         саудовский аравия  \n",
       "4        комбинация логинов  \n",
       "5           аппаратный ключ  \n",
       "6       разумеется отрицать  \n",
       "7        геолокация фоновый  \n",
       "8        шифрование продукт  \n",
       "9       онлайн эксплуатация  "
      ]
     },
     "execution_count": 31,
     "metadata": {},
     "output_type": "execute_result"
    }
   ],
   "source": [
    "rankings = pd.DataFrame({ 'chi2': chi2_ranking, 'llr':llr_ranking, 't-score' : tscore_ranking, 'pmi': pmi_ranking, 'raw_freq':raw_freq_ranking})\n",
    "rankings = rankings[['raw_freq', 'pmi', 't-score', 'chi2', 'llr']]\n",
    "rankings.head(10)"
   ]
  },
  {
   "cell_type": "markdown",
   "metadata": {
    "slideshow": {
     "slide_type": "subslide"
    }
   },
   "source": [
    "Похожи ли списки биграм?"
   ]
  },
  {
   "cell_type": "code",
   "execution_count": 32,
   "metadata": {
    "slideshow": {
     "slide_type": "subslide"
    }
   },
   "outputs": [
    {
     "name": "stderr",
     "output_type": "stream",
     "text": [
      "/Users/romakindmitriy/anaconda3/lib/python3.7/site-packages/scipy/stats/stats.py:248: RuntimeWarning: The input array could not be properly checked for nan values. nan values will be ignored.\n",
      "  \"values. nan values will be ignored.\", RuntimeWarning)\n"
     ]
    },
    {
     "data": {
      "text/plain": [
       "<matplotlib.axes._subplots.AxesSubplot at 0x1a2066c668>"
      ]
     },
     "execution_count": 32,
     "metadata": {},
     "output_type": "execute_result"
    },
    {
     "data": {
      "image/png": "[encoded data removed]",
      "text/plain": [
       "<Figure size 432x288 with 2 Axes>"
      ]
     },
     "metadata": {
      "needs_background": "light"
     },
     "output_type": "display_data"
    }
   ],
   "source": [
    "from scipy.stats import spearmanr\n",
    "import seaborn as sns\n",
    "%matplotlib inline\n",
    "corr = spearmanr(rankings).correlation\n",
    "sns.heatmap(corr, annot=True, xticklabels = list(rankings), yticklabels = list(rankings))"
   ]
  },
  {
   "cell_type": "code",
   "execution_count": 33,
   "metadata": {
    "slideshow": {
     "slide_type": "subslide"
    }
   },
   "outputs": [],
   "source": [
    "# %%time\n",
    "from gensim.summarization import keywords\n",
    "text = ' '.join(tokens_by_topic[event_id])\n",
    "kw = keywords(text)"
   ]
  },
  {
   "cell_type": "markdown",
   "metadata": {
    "slideshow": {
     "slide_type": "subslide"
    }
   },
   "source": [
    "Результаты:"
   ]
  },
  {
   "cell_type": "code",
   "execution_count": 34,
   "metadata": {},
   "outputs": [
    {
     "data": {
      "text/html": [
       "<div>\n",
       "<style scoped>\n",
       "    .dataframe tbody tr th:only-of-type {\n",
       "        vertical-align: middle;\n",
       "    }\n",
       "\n",
       "    .dataframe tbody tr th {\n",
       "        vertical-align: top;\n",
       "    }\n",
       "\n",
       "    .dataframe thead th {\n",
       "        text-align: right;\n",
       "    }\n",
       "</style>\n",
       "<table border=\"1\" class=\"dataframe\">\n",
       "  <thead>\n",
       "    <tr style=\"text-align: right;\">\n",
       "      <th></th>\n",
       "      <th>Text Rank</th>\n",
       "    </tr>\n",
       "  </thead>\n",
       "  <tbody>\n",
       "    <tr>\n",
       "      <th>0</th>\n",
       "      <td>взлом</td>\n",
       "    </tr>\n",
       "    <tr>\n",
       "      <th>1</th>\n",
       "      <td>камера</td>\n",
       "    </tr>\n",
       "    <tr>\n",
       "      <th>2</th>\n",
       "      <td>фотография</td>\n",
       "    </tr>\n",
       "    <tr>\n",
       "      <th>3</th>\n",
       "      <td>распознавание</td>\n",
       "    </tr>\n",
       "    <tr>\n",
       "      <th>4</th>\n",
       "      <td>сша представлять законопроект</td>\n",
       "    </tr>\n",
       "    <tr>\n",
       "      <th>5</th>\n",
       "      <td>апдеит</td>\n",
       "    </tr>\n",
       "    <tr>\n",
       "      <th>6</th>\n",
       "      <td>клиент</td>\n",
       "    </tr>\n",
       "    <tr>\n",
       "      <th>7</th>\n",
       "      <td>алгоритм</td>\n",
       "    </tr>\n",
       "    <tr>\n",
       "      <th>8</th>\n",
       "      <td>фаил</td>\n",
       "    </tr>\n",
       "    <tr>\n",
       "      <th>9</th>\n",
       "      <td>магазин</td>\n",
       "    </tr>\n",
       "  </tbody>\n",
       "</table>\n",
       "</div>"
      ],
      "text/plain": [
       "                       Text Rank\n",
       "0                          взлом\n",
       "1                         камера\n",
       "2                     фотография\n",
       "3                  распознавание\n",
       "4  сша представлять законопроект\n",
       "5                         апдеит\n",
       "6                         клиент\n",
       "7                       алгоритм\n",
       "8                           фаил\n",
       "9                        магазин"
      ]
     },
     "execution_count": 34,
     "metadata": {},
     "output_type": "execute_result"
    }
   ],
   "source": [
    "rankings = pd.DataFrame({'Text Rank': kw.split('\\n')})\n",
    "rankings.head(10)"
   ]
  },
  {
   "cell_type": "markdown",
   "metadata": {},
   "source": [
    "### RAKE\n",
    "\n",
    "Для RAKE нужны сырые тексты со стоп-словами:"
   ]
  },
  {
   "cell_type": "code",
   "execution_count": 35,
   "metadata": {},
   "outputs": [],
   "source": [
    "dd = pd.read_csv('./dataset_classes.csv')\n",
    "dd.head()\n",
    "filter_1 = d['class'] == 1.\n",
    "filter_2 = d['class'] == 2.\n",
    "filter_3 = d['class'] == 3.\n",
    "filter_4 = d['class'] == 4.\n",
    "filter_5 = d['class'] == 5.\n",
    "filter_6 = d['class'] == 5\n",
    "\n",
    "raw_df = dd.loc[filter_1 | filter_2 | filter_3 | filter_4 | filter_5 | filter_6]"
   ]
  },
  {
   "cell_type": "code",
   "execution_count": 36,
   "metadata": {},
   "outputs": [
    {
     "name": "stderr",
     "output_type": "stream",
     "text": [
      "/Users/romakindmitriy/anaconda3/lib/python3.7/site-packages/pandas/core/generic.py:5096: SettingWithCopyWarning: \n",
      "A value is trying to be set on a copy of a slice from a DataFrame.\n",
      "Try using .loc[row_indexer,col_indexer] = value instead\n",
      "\n",
      "See the caveats in the documentation: http://pandas.pydata.org/pandas-docs/stable/indexing.html#indexing-view-versus-copy\n",
      "  self[name] = value\n"
     ]
    },
    {
     "data": {
      "text/html": [
       "<div>\n",
       "<style scoped>\n",
       "    .dataframe tbody tr th:only-of-type {\n",
       "        vertical-align: middle;\n",
       "    }\n",
       "\n",
       "    .dataframe tbody tr th {\n",
       "        vertical-align: top;\n",
       "    }\n",
       "\n",
       "    .dataframe thead th {\n",
       "        text-align: right;\n",
       "    }\n",
       "</style>\n",
       "<table border=\"1\" class=\"dataframe\">\n",
       "  <thead>\n",
       "    <tr style=\"text-align: right;\">\n",
       "      <th></th>\n",
       "      <th>channel_id</th>\n",
       "      <th>id</th>\n",
       "      <th>date</th>\n",
       "      <th>message</th>\n",
       "      <th>url</th>\n",
       "      <th>site_name</th>\n",
       "      <th>title</th>\n",
       "      <th>description</th>\n",
       "      <th>class</th>\n",
       "    </tr>\n",
       "  </thead>\n",
       "  <tbody>\n",
       "    <tr>\n",
       "      <th>0</th>\n",
       "      <td>1.018448e+09</td>\n",
       "      <td>3336.0</td>\n",
       "      <td>1.583513e+09</td>\n",
       "      <td>нет я вспомнить быть хороший новость с который...</td>\n",
       "      <td>https://spreadprivacy.com/duckduckgo-tracker-r...</td>\n",
       "      <td>DuckDuckGo Blog</td>\n",
       "      <td>DuckDuckGo Tracker Radar Exposes Hidden Tracking</td>\n",
       "      <td>DuckDuckGo Tracker Radar is a best-in-class, a...</td>\n",
       "      <td>2.0</td>\n",
       "    </tr>\n",
       "    <tr>\n",
       "      <th>1</th>\n",
       "      <td>1.018448e+09</td>\n",
       "      <td>3335.0</td>\n",
       "      <td>1.583511e+09</td>\n",
       "      <td>в штат кажется хотеть сделать очень невыгодный...</td>\n",
       "      <td>https://www.judiciary.senate.gov/press/rep/rel...</td>\n",
       "      <td>www.judiciary.senate.gov</td>\n",
       "      <td>Graham, Blumenthal, Hawley, Feinstein Introduc...</td>\n",
       "      <td>United States Senate Committee on the Judiciary</td>\n",
       "      <td>2.0</td>\n",
       "    </tr>\n",
       "    <tr>\n",
       "      <th>2</th>\n",
       "      <td>1.018448e+09</td>\n",
       "      <td>3334.0</td>\n",
       "      <td>1.583472e+09</td>\n",
       "      <td>аппаратный дыра в процессор а точно в движок к...</td>\n",
       "      <td>https://blog.ptsecurity.com/2020/03/intelx86-r...</td>\n",
       "      <td>Ptsecurity</td>\n",
       "      <td>Intel x86 Root of Trust: loss of trust</td>\n",
       "      <td>The scenario that Intel system architects, eng...</td>\n",
       "      <td>5.0</td>\n",
       "    </tr>\n",
       "    <tr>\n",
       "      <th>3</th>\n",
       "      <td>1.018448e+09</td>\n",
       "      <td>3333.0</td>\n",
       "      <td>1.583430e+09</td>\n",
       "      <td>пока что не быть отзывать часть сертификат вып...</td>\n",
       "      <td>https://community.letsencrypt.org/t/2020-02-29...</td>\n",
       "      <td>Let's Encrypt Community Support</td>\n",
       "      <td>2020.02.29 CAA Rechecking Bug</td>\n",
       "      <td>On 2020-02-29 UTC, Let’s Encrypt found a bug i...</td>\n",
       "      <td>5.0</td>\n",
       "    </tr>\n",
       "    <tr>\n",
       "      <th>4</th>\n",
       "      <td>1.018448e+09</td>\n",
       "      <td>3332.0</td>\n",
       "      <td>1.583409e+09</td>\n",
       "      <td>интересный видео с выступление менеджер отвеча...</td>\n",
       "      <td>https://www.youtube.com/watch?v=B_mhJO2qHlQ</td>\n",
       "      <td>YouTube</td>\n",
       "      <td>Breaking Password Dependencies: Challenges in ...</td>\n",
       "      <td>Lee Walker, Principal Architect, Microsoft Ale...</td>\n",
       "      <td>2.0</td>\n",
       "    </tr>\n",
       "  </tbody>\n",
       "</table>\n",
       "</div>"
      ],
      "text/plain": [
       "     channel_id      id          date  \\\n",
       "0  1.018448e+09  3336.0  1.583513e+09   \n",
       "1  1.018448e+09  3335.0  1.583511e+09   \n",
       "2  1.018448e+09  3334.0  1.583472e+09   \n",
       "3  1.018448e+09  3333.0  1.583430e+09   \n",
       "4  1.018448e+09  3332.0  1.583409e+09   \n",
       "\n",
       "                                             message  \\\n",
       "0  нет я вспомнить быть хороший новость с который...   \n",
       "1  в штат кажется хотеть сделать очень невыгодный...   \n",
       "2  аппаратный дыра в процессор а точно в движок к...   \n",
       "3  пока что не быть отзывать часть сертификат вып...   \n",
       "4  интересный видео с выступление менеджер отвеча...   \n",
       "\n",
       "                                                 url  \\\n",
       "0  https://spreadprivacy.com/duckduckgo-tracker-r...   \n",
       "1  https://www.judiciary.senate.gov/press/rep/rel...   \n",
       "2  https://blog.ptsecurity.com/2020/03/intelx86-r...   \n",
       "3  https://community.letsencrypt.org/t/2020-02-29...   \n",
       "4        https://www.youtube.com/watch?v=B_mhJO2qHlQ   \n",
       "\n",
       "                         site_name  \\\n",
       "0                  DuckDuckGo Blog   \n",
       "1         www.judiciary.senate.gov   \n",
       "2                       Ptsecurity   \n",
       "3  Let's Encrypt Community Support   \n",
       "4                          YouTube   \n",
       "\n",
       "                                               title  \\\n",
       "0   DuckDuckGo Tracker Radar Exposes Hidden Tracking   \n",
       "1  Graham, Blumenthal, Hawley, Feinstein Introduc...   \n",
       "2             Intel x86 Root of Trust: loss of trust   \n",
       "3                      2020.02.29 CAA Rechecking Bug   \n",
       "4  Breaking Password Dependencies: Challenges in ...   \n",
       "\n",
       "                                         description  class  \n",
       "0  DuckDuckGo Tracker Radar is a best-in-class, a...    2.0  \n",
       "1    United States Senate Committee on the Judiciary    2.0  \n",
       "2  The scenario that Intel system architects, eng...    5.0  \n",
       "3  On 2020-02-29 UTC, Let’s Encrypt found a bug i...    5.0  \n",
       "4  Lee Walker, Principal Architect, Microsoft Ale...    2.0  "
      ]
     },
     "execution_count": 36,
     "metadata": {},
     "output_type": "execute_result"
    }
   ],
   "source": [
    "raw_df.message = raw_df.message.str.lower()\n",
    "raw_df.message = raw_df.message.apply(words_only)\n",
    "raw_df.message = raw_df.message.apply(lemmatize)\n",
    "raw_df.head()"
   ]
  },
  {
   "cell_type": "code",
   "execution_count": 37,
   "metadata": {
    "scrolled": true,
    "slideshow": {
     "slide_type": "subslide"
    }
   },
   "outputs": [
    {
     "data": {
      "text/plain": [
       "52818"
      ]
     },
     "execution_count": 37,
     "metadata": {},
     "output_type": "execute_result"
    }
   ],
   "source": [
    "text = ' '.join(raw_df[raw_df['class'] == raw_df['class'].unique()[event_id]].message.tolist())\n",
    "len(text)"
   ]
  },
  {
   "cell_type": "markdown",
   "metadata": {
    "slideshow": {
     "slide_type": "subslide"
    }
   },
   "source": [
    "Результаты RAKE:"
   ]
  },
  {
   "cell_type": "code",
   "execution_count": 38,
   "metadata": {},
   "outputs": [
    {
     "data": {
      "text/html": [
       "<div>\n",
       "<style scoped>\n",
       "    .dataframe tbody tr th:only-of-type {\n",
       "        vertical-align: middle;\n",
       "    }\n",
       "\n",
       "    .dataframe tbody tr th {\n",
       "        vertical-align: top;\n",
       "    }\n",
       "\n",
       "    .dataframe thead th {\n",
       "        text-align: right;\n",
       "    }\n",
       "</style>\n",
       "<table border=\"1\" class=\"dataframe\">\n",
       "  <thead>\n",
       "    <tr style=\"text-align: right;\">\n",
       "      <th></th>\n",
       "      <th>RAKE</th>\n",
       "    </tr>\n",
       "  </thead>\n",
       "  <tbody>\n",
       "    <tr>\n",
       "      <th>0</th>\n",
       "      <td>вскрывать айфон мухамед саид алшамрани</td>\n",
       "    </tr>\n",
       "    <tr>\n",
       "      <th>1</th>\n",
       "      <td>конкретно принц мохаммед бин салман</td>\n",
       "    </tr>\n",
       "    <tr>\n",
       "      <th>2</th>\n",
       "      <td>генеральный прокурор сша уильям барра</td>\n",
       "    </tr>\n",
       "    <tr>\n",
       "      <th>3</th>\n",
       "      <td>дверной звонок напичкать сторонний трекер</td>\n",
       "    </tr>\n",
       "    <tr>\n",
       "      <th>4</th>\n",
       "      <td>средство предотвращение проникновение пропадат...</td>\n",
       "    </tr>\n",
       "    <tr>\n",
       "      <th>5</th>\n",
       "      <td>ключик прикупать нести добро апд</td>\n",
       "    </tr>\n",
       "    <tr>\n",
       "      <th>6</th>\n",
       "      <td>гигантский архивный файл занимать практически</td>\n",
       "    </tr>\n",
       "    <tr>\n",
       "      <th>7</th>\n",
       "      <td>неизвестный алгоритм выдавать код гражданин</td>\n",
       "    </tr>\n",
       "    <tr>\n",
       "      <th>8</th>\n",
       "      <td>полицейский задерживать житель синьцзян помечать</td>\n",
       "    </tr>\n",
       "    <tr>\n",
       "      <th>9</th>\n",
       "      <td>технический сложность продолжение ко вчерашний</td>\n",
       "    </tr>\n",
       "  </tbody>\n",
       "</table>\n",
       "</div>"
      ],
      "text/plain": [
       "                                                RAKE\n",
       "0             вскрывать айфон мухамед саид алшамрани\n",
       "1                конкретно принц мохаммед бин салман\n",
       "2              генеральный прокурор сша уильям барра\n",
       "3          дверной звонок напичкать сторонний трекер\n",
       "4  средство предотвращение проникновение пропадат...\n",
       "5                   ключик прикупать нести добро апд\n",
       "6      гигантский архивный файл занимать практически\n",
       "7        неизвестный алгоритм выдавать код гражданин\n",
       "8   полицейский задерживать житель синьцзян помечать\n",
       "9     технический сложность продолжение ко вчерашний"
      ]
     },
     "execution_count": 38,
     "metadata": {},
     "output_type": "execute_result"
    }
   ],
   "source": [
    "import RAKE\n",
    "\n",
    "# /Users/romakindmitriy/PycharmProjects/TelegramParser/docs/stopwords/fullstopwords.txt\n",
    "# Rake = RAKE.Rake('./stopwords.txt')\n",
    "Rake = RAKE.Rake('/Users/romakindmitriy/PycharmProjects/TelegramParser/docs/stopwords/fullstopwords.txt')\n",
    "kp = [i[0] for i in Rake.run(text)]\n",
    "rankings = pd.DataFrame({'RAKE': kp})\n",
    "rankings.head(10)"
   ]
  },
  {
   "cell_type": "markdown",
   "metadata": {
    "slideshow": {
     "slide_type": "slide"
    }
   },
   "source": [
    "## Вычисление сходства и Gensim"
   ]
  },
  {
   "cell_type": "markdown",
   "metadata": {
    "slideshow": {
     "slide_type": "subslide"
    }
   },
   "source": [
    "Представление данных в Gensim словарем и корпусом:"
   ]
  },
  {
   "cell_type": "code",
   "execution_count": 39,
   "metadata": {
    "scrolled": true,
    "slideshow": {
     "slide_type": "subslide"
    }
   },
   "outputs": [
    {
     "name": "stderr",
     "output_type": "stream",
     "text": [
      "/Users/romakindmitriy/anaconda3/lib/python3.7/site-packages/ipykernel_launcher.py:2: SettingWithCopyWarning: \n",
      "A value is trying to be set on a copy of a slice from a DataFrame\n",
      "\n",
      "See the caveats in the documentation: http://pandas.pydata.org/pandas-docs/stable/indexing.html#indexing-view-versus-copy\n",
      "  \n"
     ]
    }
   ],
   "source": [
    "from gensim.corpora import *\n",
    "df.sort_values(['class'], inplace = True)\n",
    "texts = [df.message.iloc[i].split() for i in range(len(df))]\n",
    "dictionary = Dictionary(texts)\n",
    "corpus = [dictionary.doc2bow(text) for text in texts]"
   ]
  },
  {
   "cell_type": "markdown",
   "metadata": {
    "slideshow": {
     "slide_type": "subslide"
    }
   },
   "source": [
    "Вычисление сходства по косинусной мере на векторах $tf-idf$:"
   ]
  },
  {
   "cell_type": "code",
   "execution_count": 40,
   "metadata": {
    "slideshow": {
     "slide_type": "subslide"
    }
   },
   "outputs": [
    {
     "name": "stdout",
     "output_type": "stream",
     "text": [
      "<gensim.interfaces.TransformedCorpus object at 0x1a20adc048>\n"
     ]
    }
   ],
   "source": [
    "# %%time\n",
    "from gensim.models import  *\n",
    "tfidf = TfidfModel(corpus)\n",
    "print(tfidf[corpus])\n",
    "corpus_tfidf = tfidf[corpus]"
   ]
  },
  {
   "cell_type": "code",
   "execution_count": 41,
   "metadata": {
    "slideshow": {
     "slide_type": "subslide"
    }
   },
   "outputs": [],
   "source": [
    "from gensim import similarities\n",
    "\n",
    "index = similarities.MatrixSimilarity(tfidf[corpus])\n",
    "sims = index[corpus_tfidf]"
   ]
  },
  {
   "cell_type": "code",
   "execution_count": 42,
   "metadata": {
    "slideshow": {
     "slide_type": "subslide"
    }
   },
   "outputs": [
    {
     "data": {
      "image/png": "[encoded data removed]",
      "text/plain": [
       "<Figure size 720x720 with 2 Axes>"
      ]
     },
     "metadata": {
      "needs_background": "light"
     },
     "output_type": "display_data"
    }
   ],
   "source": [
    "from pylab import pcolor, show, colorbar, xticks, yticks\n",
    "import seaborn as sns\n",
    "import matplotlib.pyplot as plt\n",
    "%matplotlib inline\n",
    "\n",
    "plt.figure(figsize = (10,10))\n",
    "\n",
    "\n",
    "sns.heatmap(data=sims, cmap = 'Spectral').set(xticklabels=[],yticklabels=[])\n",
    "\n",
    "plt.title(\"Матрица близости\")\n",
    "plt.show()"
   ]
  },
  {
   "cell_type": "markdown",
   "metadata": {},
   "source": [
    "## TSNE"
   ]
  },
  {
   "cell_type": "code",
   "execution_count": 43,
   "metadata": {},
   "outputs": [],
   "source": [
    "from sklearn.manifold import TSNE\n",
    "from sklearn.decomposition import TruncatedSVD\n",
    "from sklearn.pipeline import Pipeline\n",
    "from sklearn.preprocessing import Normalizer\n",
    "from sklearn.feature_extraction.text import *\n",
    "\n",
    "vectors = TfidfVectorizer().fit_transform(df.message)\n",
    "X_reduced = TruncatedSVD(n_components=5, random_state=0).fit_transform(vectors)\n",
    "X_embedded = TSNE(n_components=2, perplexity=5, verbose=0).fit_transform(X_reduced)"
   ]
  },
  {
   "cell_type": "code",
   "execution_count": 44,
   "metadata": {},
   "outputs": [
    {
     "name": "stderr",
     "output_type": "stream",
     "text": [
      "/Users/romakindmitriy/anaconda3/lib/python3.7/site-packages/seaborn/axisgrid.py:230: UserWarning: The `size` paramter has been renamed to `height`; please update your code.\n",
      "  warnings.warn(msg, UserWarning)\n"
     ]
    },
    {
     "data": {
      "text/plain": [
       "<seaborn.axisgrid.FacetGrid at 0x11a4855c0>"
      ]
     },
     "execution_count": 44,
     "metadata": {},
     "output_type": "execute_result"
    },
    {
     "data": {
      "image/png": "[encoded data removed]",
      "text/plain": [
       "<Figure size 771.875x720 with 1 Axes>"
      ]
     },
     "metadata": {
      "needs_background": "light"
     },
     "output_type": "display_data"
    }
   ],
   "source": [
    "vis_df = pd.DataFrame({'X': X_embedded[:, 0], 'Y': X_embedded[:, 1], 'topic' : df['class']})\n",
    "sns.FacetGrid(vis_df, hue=\"topic\", size=10).map(plt.scatter, \"X\", \"Y\").add_legend()"
   ]
  },
  {
   "cell_type": "code",
   "execution_count": null,
   "metadata": {},
   "outputs": [],
   "source": []
  }
 ],
 "metadata": {
  "kernelspec": {
   "display_name": "Python 3",
   "language": "python",
   "name": "python3"
  },
  "language_info": {
   "codemirror_mode": {
    "name": "ipython",
    "version": 3
   },
   "file_extension": ".py",
   "mimetype": "text/x-python",
   "name": "python",
   "nbconvert_exporter": "python",
   "pygments_lexer": "ipython3",
   "version": "3.7.3"
  }
 },
 "nbformat": 4,
 "nbformat_minor": 2
}
